{
 "cells": [
  {
   "cell_type": "markdown",
   "metadata": {},
   "source": [
    "# Problem #1"
   ]
  },
  {
   "cell_type": "markdown",
   "metadata": {},
   "source": [
    "## System 1"
   ]
  },
  {
   "cell_type": "code",
   "execution_count": 1,
   "metadata": {
    "collapsed": true
   },
   "outputs": [],
   "source": [
    "import numpy as np"
   ]
  },
  {
   "cell_type": "code",
   "execution_count": 3,
   "metadata": {
    "collapsed": true
   },
   "outputs": [],
   "source": [
    "# Let's call the system S(). We have a vector 'a' and a vector 'b' defined as:\n",
    "a = np.array([2, 4])\n",
    "b = np.array([-1, -2])"
   ]
  },
  {
   "cell_type": "code",
   "execution_count": 5,
   "metadata": {
    "collapsed": true
   },
   "outputs": [],
   "source": [
    "# Note that a = -2b\n",
    "assert np.array_equal(a, -2*b)"
   ]
  },
  {
   "cell_type": "code",
   "execution_count": 6,
   "metadata": {
    "collapsed": true
   },
   "outputs": [],
   "source": [
    "# We also know the outputs of the system S(a) and S(b)\n",
    "S_a = np.array([-6, -6])\n",
    "S_b = np.array([3, 3])"
   ]
  },
  {
   "cell_type": "code",
   "execution_count": 7,
   "metadata": {
    "collapsed": true
   },
   "outputs": [],
   "source": [
    "# Since a = -2b, then for the system to be linear, we must have that\n",
    "# S(a) = -2S(b) by the principle of superposition. Let's check:\n",
    "assert np.array_equal(S_a, -2*S_b)"
   ]
  },
  {
   "cell_type": "markdown",
   "metadata": {},
   "source": [
    "Now let's find a matrix that could be associated with this system. \n",
    "We know by dimension rules that this must be a 2x2 matrix. Let's \n",
    "call it M:\n",
    "             \n",
    "            M =   [m_00, m_01]\n",
    "                  [m_10, m_11]\n",
    "                  \n",
    "We know that Ma = [-6, -6]. So we have 2m_00 + 4m_01 = -6. We also know\n",
    "that Mb = [3, 3], but this doesn't add any information because b is a\n",
    "linear combination of a. So one possible solution is m_00 = -1 and \n",
    "m_01 = -1, but this is not unique because we have 2 variables and 1 \n",
    "equality. We also have 2m_10 + 4m_11 = -6, which leads us to possible\n",
    "values m_10 = -1, m_11 = -1. But these values are again not unique,\n",
    "for the same reasoning. So we have\n",
    "            \n",
    "            M = [-1, -1]\n",
    "                [-1, -1]\n",
    "                \n",
    "as a possible matrix for this system, but it is not unique (explained\n",
    "above)."
   ]
  },
  {
   "cell_type": "code",
   "execution_count": 8,
   "metadata": {
    "collapsed": true
   },
   "outputs": [],
   "source": [
    "# Check that M works\n",
    "M = np.array([[-1, -1], [-1, -1]])\n",
    "assert np.array_equal(np.matmul(M, a), S_a)\n",
    "assert np.array_equal(np.matmul(M, b), S_b)"
   ]
  },
  {
   "cell_type": "markdown",
   "metadata": {},
   "source": [
    "## System 2"
   ]
  },
  {
   "cell_type": "code",
   "execution_count": 10,
   "metadata": {
    "collapsed": true
   },
   "outputs": [],
   "source": [
    "# Again we have 'a' and 'b'\n",
    "a = 1\n",
    "b = 2"
   ]
  },
  {
   "cell_type": "code",
   "execution_count": 11,
   "metadata": {
    "collapsed": true
   },
   "outputs": [],
   "source": [
    "# Note that b = 2a\n",
    "assert b == 2*a"
   ]
  },
  {
   "cell_type": "code",
   "execution_count": 12,
   "metadata": {},
   "outputs": [
    {
     "ename": "AssertionError",
     "evalue": "",
     "output_type": "error",
     "traceback": [
      "\u001b[0;31m---------------------------------------------------------------------------\u001b[0m",
      "\u001b[0;31mAssertionError\u001b[0m                            Traceback (most recent call last)",
      "\u001b[0;32m<ipython-input-12-5aeaaa73d9e4>\u001b[0m in \u001b[0;36m<module>\u001b[0;34m()\u001b[0m\n\u001b[1;32m      2\u001b[0m \u001b[0mS_a\u001b[0m \u001b[0;34m=\u001b[0m \u001b[0mnp\u001b[0m\u001b[0;34m.\u001b[0m\u001b[0marray\u001b[0m\u001b[0;34m(\u001b[0m\u001b[0;34m[\u001b[0m\u001b[0;36m1\u001b[0m\u001b[0;34m,\u001b[0m \u001b[0;36m4\u001b[0m\u001b[0;34m]\u001b[0m\u001b[0;34m)\u001b[0m\u001b[0;34m\u001b[0m\u001b[0m\n\u001b[1;32m      3\u001b[0m \u001b[0mS_b\u001b[0m \u001b[0;34m=\u001b[0m \u001b[0mnp\u001b[0m\u001b[0;34m.\u001b[0m\u001b[0marray\u001b[0m\u001b[0;34m(\u001b[0m\u001b[0;34m[\u001b[0m\u001b[0;36m2\u001b[0m\u001b[0;34m,\u001b[0m \u001b[0;36m6\u001b[0m\u001b[0;34m]\u001b[0m\u001b[0;34m)\u001b[0m\u001b[0;34m\u001b[0m\u001b[0m\n\u001b[0;32m----> 4\u001b[0;31m \u001b[0;32massert\u001b[0m \u001b[0mnp\u001b[0m\u001b[0;34m.\u001b[0m\u001b[0marray_equal\u001b[0m\u001b[0;34m(\u001b[0m\u001b[0mS_b\u001b[0m\u001b[0;34m,\u001b[0m \u001b[0;36m2\u001b[0m\u001b[0;34m*\u001b[0m\u001b[0mS_a\u001b[0m\u001b[0;34m)\u001b[0m\u001b[0;34m\u001b[0m\u001b[0m\n\u001b[0m",
      "\u001b[0;31mAssertionError\u001b[0m: "
     ]
    }
   ],
   "source": [
    "# Check whether S(b) = 2S(a)\n",
    "S_a = np.array([1, 4])\n",
    "S_b = np.array([2, 6])\n",
    "assert np.array_equal(S_b, 2*S_a)"
   ]
  },
  {
   "cell_type": "markdown",
   "metadata": {},
   "source": [
    "S(b) != 2S(a). So S() is not a linear system because it\n",
    "does not follow the principle of superposition."
   ]
  },
  {
   "cell_type": "markdown",
   "metadata": {},
   "source": [
    "## System 3"
   ]
  },
  {
   "cell_type": "code",
   "execution_count": 13,
   "metadata": {
    "collapsed": true
   },
   "outputs": [],
   "source": [
    "# Now we have 3 vectors 'a,' 'b' and 'c'\n",
    "a = np.array([1, 1])\n",
    "b = np.array([1, -0.5])\n",
    "c = np.array([3, 0])"
   ]
  },
  {
   "cell_type": "code",
   "execution_count": 14,
   "metadata": {
    "collapsed": true
   },
   "outputs": [],
   "source": [
    "# Note that c = a + 2b\n",
    "assert np.array_equal(c, a + 2*b)"
   ]
  },
  {
   "cell_type": "code",
   "execution_count": 18,
   "metadata": {},
   "outputs": [
    {
     "ename": "AssertionError",
     "evalue": "",
     "output_type": "error",
     "traceback": [
      "\u001b[0;31m---------------------------------------------------------------------------\u001b[0m",
      "\u001b[0;31mAssertionError\u001b[0m                            Traceback (most recent call last)",
      "\u001b[0;32m<ipython-input-18-d93c9f34ec58>\u001b[0m in \u001b[0;36m<module>\u001b[0;34m()\u001b[0m\n\u001b[1;32m      3\u001b[0m \u001b[0mS_b\u001b[0m \u001b[0;34m=\u001b[0m \u001b[0mnp\u001b[0m\u001b[0;34m.\u001b[0m\u001b[0marray\u001b[0m\u001b[0;34m(\u001b[0m\u001b[0;34m[\u001b[0m\u001b[0;36m1\u001b[0m\u001b[0;34m,\u001b[0m \u001b[0;36m3\u001b[0m\u001b[0;34m]\u001b[0m\u001b[0;34m)\u001b[0m\u001b[0;34m\u001b[0m\u001b[0m\n\u001b[1;32m      4\u001b[0m \u001b[0mS_c\u001b[0m \u001b[0;34m=\u001b[0m \u001b[0mnp\u001b[0m\u001b[0;34m.\u001b[0m\u001b[0marray\u001b[0m\u001b[0;34m(\u001b[0m\u001b[0;34m[\u001b[0m\u001b[0;36m6\u001b[0m\u001b[0;34m,\u001b[0m \u001b[0;36m2\u001b[0m\u001b[0;34m]\u001b[0m\u001b[0;34m)\u001b[0m\u001b[0;34m\u001b[0m\u001b[0m\n\u001b[0;32m----> 5\u001b[0;31m \u001b[0;32massert\u001b[0m \u001b[0mnp\u001b[0m\u001b[0;34m.\u001b[0m\u001b[0marray_equal\u001b[0m\u001b[0;34m(\u001b[0m\u001b[0mS_c\u001b[0m\u001b[0;34m,\u001b[0m \u001b[0mS_a\u001b[0m \u001b[0;34m+\u001b[0m \u001b[0;36m2\u001b[0m\u001b[0;34m*\u001b[0m\u001b[0mS_b\u001b[0m\u001b[0;34m)\u001b[0m\u001b[0;34m\u001b[0m\u001b[0m\n\u001b[0m",
      "\u001b[0;31mAssertionError\u001b[0m: "
     ]
    }
   ],
   "source": [
    "# Check whether S(c) = S(a) + 2S(b)\n",
    "S_a = np.array([4, -1])\n",
    "S_b = np.array([1, 3])\n",
    "S_c = np.array([6, 2])\n",
    "assert np.array_equal(S_c, S_a + 2*S_b)"
   ]
  },
  {
   "cell_type": "markdown",
   "metadata": {},
   "source": [
    "S(c) != S(a) + 2S(b). So S() is not a linear system because it does not follow the principle of superposition."
   ]
  },
  {
   "cell_type": "markdown",
   "metadata": {},
   "source": [
    "## System 4"
   ]
  },
  {
   "cell_type": "code",
   "execution_count": 20,
   "metadata": {
    "collapsed": true
   },
   "outputs": [],
   "source": [
    "# we have 2 vectors 'a' and 'b'\n",
    "a = np.asarray([2, 4])\n",
    "b = np.asarray([-2, 2])"
   ]
  },
  {
   "cell_type": "markdown",
   "metadata": {},
   "source": [
    "We can't use the superposition test here because we cannot \n",
    "write one vector as a linear combination of the others. But we \n",
    "know that the operator would have to be a 1x2 matrix M, so we can \n",
    "do some basic algebra:\n",
    "            \n",
    "            2m_00 + 4m_01 = 0  -->  m_00 = -2m_01\n",
    "            -2m_00 + 2m_01 = 3  -->  -2(-2m_01) + 2m_01 = 3\n",
    "            -->  6m_01 = 3  -->  m_01 = 0.5\n",
    "            m_00 = -2(0.5) = -1\n",
    "            \n",
    "So the system is linear, because we have a 1x2 matrix M that satisfies\n",
    "Ma = 0 and Mb = 3. This matrix is M = [-1, 0.5] and I believe it\n",
    "is unique, because there was a unique solution when solving the\n",
    "system of equations to find it."
   ]
  },
  {
   "cell_type": "code",
   "execution_count": 21,
   "metadata": {
    "collapsed": true
   },
   "outputs": [],
   "source": [
    "# Check that M works\n",
    "M = np.asarray([[-1, 0.5]])\n",
    "# note: result of np.matmul(M, a) will be a 1-D vector, so we have to\n",
    "# index to get the scalar\n",
    "assert np.array_equal(np.matmul(M, a)[0], 0)\n",
    "assert np.array_equal(np.matmul(M, b)[0], 3)"
   ]
  },
  {
   "cell_type": "markdown",
   "metadata": {},
   "source": [
    "## System 5"
   ]
  },
  {
   "cell_type": "markdown",
   "metadata": {},
   "source": [
    "This cannot be a linear system. In order for this to be a linear system,\n",
    "we would need to find a matrix M such that M0 = [1,2]. But any matrix\n",
    "multiplied by the scalar 0 will have a resulting matrix with entries\n",
    "that are all zeros. So this cannot be a linear system."
   ]
  },
  {
   "cell_type": "markdown",
   "metadata": {},
   "source": [
    "# Problem #2"
   ]
  },
  {
   "cell_type": "markdown",
   "metadata": {},
   "source": [
    "## Part (a)"
   ]
  },
  {
   "cell_type": "code",
   "execution_count": 24,
   "metadata": {
    "collapsed": true
   },
   "outputs": [],
   "source": [
    "%matplotlib inline\n",
    "import matplotlib.pylab as plt"
   ]
  },
  {
   "cell_type": "code",
   "execution_count": 253,
   "metadata": {
    "collapsed": true
   },
   "outputs": [],
   "source": [
    "def plotVec2(matrix):\n",
    "    assert matrix.shape[0] == 2, \"Matrix must have height 2.\"\n",
    "    plt.figure(figsize=(10, 10))\n",
    "    # First, plot the axes\n",
    "    plt.plot([-1, 1], [0, 0], c='black')\n",
    "    plt.plot([0, 0], [-1, 1], c='black')\n",
    "    # Randomly generate colors for each line. Colors are 3D vectors of\n",
    "    # RGB values between 0-1.\n",
    "    colors = np.random.uniform(size=(matrix.shape[1], 3))\n",
    "    # Now cycle through the column vectors and plot each\n",
    "    for i in range(matrix.shape[1]):\n",
    "        x, y = matrix[:, i]\n",
    "        plt.plot([0, x], [0, y], c=colors[i])\n",
    "        plt.scatter([x], [y], c=colors[i])\n",
    "    # set figure limits\n",
    "    plt.ylim(-3, 3)\n",
    "    plt.xlim(-3, 3)\n",
    "    plt.show()"
   ]
  },
  {
   "cell_type": "code",
   "execution_count": 254,
   "metadata": {},
   "outputs": [
    {
     "name": "stdout",
     "output_type": "stream",
     "text": [
      "Matrix:\n",
      "[[ 0.13965793 -0.24323498 -1.25646891  0.53958832]\n",
      " [-1.6472225   0.31764526  1.0420513   0.16194032]]\n"
     ]
    },
    {
     "data": {
      "image/png": "[encoded data removed]",
      "text/plain": [
       "<matplotlib.figure.Figure at 0x11c110d30>"
      ]
     },
     "metadata": {},
     "output_type": "display_data"
    }
   ],
   "source": [
    "# Generate a random height-2 matrix and plot the columns using our\n",
    "# function (code can be found above)\n",
    "matrix = np.random.normal(size=(2, 4))\n",
    "print('Matrix:')\n",
    "print(matrix)\n",
    "plotVec2(matrix)"
   ]
  },
  {
   "cell_type": "markdown",
   "metadata": {},
   "source": [
    "## Part (b)"
   ]
  },
  {
   "cell_type": "code",
   "execution_count": 93,
   "metadata": {
    "collapsed": true
   },
   "outputs": [],
   "source": [
    "import math\n",
    "\n",
    "def vecLenAngle(v1, v2, verbose=False):\n",
    "    \"\"\"\n",
    "    Angles are returned in radians. If one or more of the vectors has \n",
    "    zero length, 'N/A' is returned for the angle.\n",
    "    \"\"\"\n",
    "    # The magnitude is the sqrt of the sum of component squares\n",
    "    mag1 = np.sqrt(np.sum(np.square(v1)))\n",
    "    mag2 = np.sqrt(np.sum(np.square(v2)))\n",
    "    # Dot product = mag1*mag2*cos(theta), where theta is the angle between v1\n",
    "    # and v2. So theta = arccos(dot/(mag1*mag2))\n",
    "    dot = np.sum(np.multiply(v1, v2))\n",
    "    if mag1*mag2 == 0:\n",
    "        theta = 'N/A'\n",
    "    else:\n",
    "        theta = math.degrees(np.arccos(dot/(mag1*mag2)))\n",
    "        \n",
    "    if verbose:\n",
    "        print('Magnitude of vector 1: %0.2f' % mag1)\n",
    "        print('Magnitude of vector 2: %0.2f' % mag2)\n",
    "        if type(theta) == str:\n",
    "            print('Angle N/A')\n",
    "        else:\n",
    "            print('Angle: %0.1f degrees' % theta)\n",
    "    \n",
    "    return mag1, mag2, theta"
   ]
  },
  {
   "cell_type": "code",
   "execution_count": 94,
   "metadata": {},
   "outputs": [
    {
     "name": "stdout",
     "output_type": "stream",
     "text": [
      "Vector 1:\n",
      "[ 0.85541596  0.10455275]\n",
      "Vector 2:\n",
      "[-0.2494765   2.08867937]\n",
      "Magnitude of vector 1: 0.86\n",
      "Magnitude of vector 2: 2.10\n",
      "Angle: 89.8 degrees\n"
     ]
    }
   ],
   "source": [
    "# Generate two random vectors and use our function to compute\n",
    "# the magnitudes & lengths\n",
    "v1 = np.random.normal(size=(2,))\n",
    "v2 = np.random.normal(size=(2,))\n",
    "print('Vector 1:')\n",
    "print(v1)\n",
    "print('Vector 2:')\n",
    "print(v2)\n",
    "mag1, mag2, theta = vecLenAngle(v1, v2, verbose=True)"
   ]
  },
  {
   "cell_type": "markdown",
   "metadata": {},
   "source": [
    "## Part (c)"
   ]
  },
  {
   "cell_type": "code",
   "execution_count": 71,
   "metadata": {
    "collapsed": true
   },
   "outputs": [],
   "source": [
    "# generate a random matrix of size (2, 2)\n",
    "matrix = np.random.normal(size=(2, 2))"
   ]
  },
  {
   "cell_type": "code",
   "execution_count": 4,
   "metadata": {
    "collapsed": true
   },
   "outputs": [],
   "source": [
    "# writing a wrapper for numpy's SVD because numpy returns singular values as an array (weird).\n",
    "def svd(matrix):\n",
    "    U, s, Vh = np.linalg.svd(matrix)\n",
    "    S = np.zeros(matrix.shape, dtype=float)\n",
    "    n = len(s)\n",
    "    S[:len(s), :len(s)] = np.diag(s)\n",
    "    return U, S, Vh"
   ]
  },
  {
   "cell_type": "code",
   "execution_count": 106,
   "metadata": {},
   "outputs": [
    {
     "name": "stdout",
     "output_type": "stream",
     "text": [
      "(2, 2)\n",
      "(2, 2)\n",
      "(2, 2)\n"
     ]
    }
   ],
   "source": [
    "# decompose our matrix with SVD\n",
    "U, S, Vh = svd(matrix)\n",
    "print(U.shape)\n",
    "print(S.shape)\n",
    "print(Vh.shape)"
   ]
  },
  {
   "cell_type": "code",
   "execution_count": 107,
   "metadata": {
    "collapsed": true
   },
   "outputs": [],
   "source": [
    "# define our basis vectors e1 and e2\n",
    "e1 = np.array([1, 0])\n",
    "e2 = np.array([0, 1])"
   ]
  },
  {
   "cell_type": "code",
   "execution_count": 108,
   "metadata": {},
   "outputs": [
    {
     "name": "stdout",
     "output_type": "stream",
     "text": [
      "Magnitude of vector 1: 1.00\n",
      "Magnitude of vector 2: 1.00\n",
      "Angle: 90.0 degrees\n"
     ]
    }
   ],
   "source": [
    "# observe lengths and angle between e1 and e2\n",
    "mag1, mag2, theta = vecLenAngle(e1, e2, verbose=True)"
   ]
  },
  {
   "cell_type": "code",
   "execution_count": 109,
   "metadata": {},
   "outputs": [
    {
     "name": "stdout",
     "output_type": "stream",
     "text": [
      "Magnitude of vector 1: 1.00\n",
      "Magnitude of vector 2: 1.00\n",
      "Angle: 90.0 degrees\n"
     ]
    }
   ],
   "source": [
    "# observe lengths and angle between Vhe1 and Vhe2\n",
    "Vhe1 = np.matmul(Vh, e1)\n",
    "Vhe2 = np.matmul(Vh, e2)\n",
    "mag1, mag2, theta = vecLenAngle(Vhe1, Vhe2, verbose=True)"
   ]
  },
  {
   "cell_type": "code",
   "execution_count": 110,
   "metadata": {},
   "outputs": [
    {
     "name": "stdout",
     "output_type": "stream",
     "text": [
      "Magnitude of vector 1: 2.13\n",
      "Magnitude of vector 2: 0.81\n",
      "Angle: 78.2 degrees\n"
     ]
    }
   ],
   "source": [
    "# observe lengths and angle between SVhe1 and SVhe2\n",
    "SVhe1 = np.matmul(S, Vhe1)\n",
    "SVhe2 = np.matmul(S, Vhe2)\n",
    "mag1, mag2, theta = vecLenAngle(SVhe1, SVhe2, verbose=True)"
   ]
  },
  {
   "cell_type": "code",
   "execution_count": 111,
   "metadata": {},
   "outputs": [
    {
     "name": "stdout",
     "output_type": "stream",
     "text": [
      "Magnitude of vector 1: 2.13\n",
      "Magnitude of vector 2: 0.81\n",
      "Angle: 78.2 degrees\n"
     ]
    }
   ],
   "source": [
    "# observe lengths and angle between USVhe1 and USVhe2\n",
    "USVhe1 = np.matmul(U, SVhe1)\n",
    "USVhe2 = np.matmul(U, SVhe2)\n",
    "mag1, mag2, theta = vecLenAngle(USVhe1, USVhe2, verbose=True)"
   ]
  },
  {
   "cell_type": "markdown",
   "metadata": {},
   "source": [
    "The only time that the vector magnitudes and the angle between the two vectors changed was during the S transformation (SVhen). The other two transformations did not change the magnitudes or angle. This makes sense because the other two transformations involved orthogonal matrices, which perform rotation."
   ]
  },
  {
   "cell_type": "code",
   "execution_count": 255,
   "metadata": {},
   "outputs": [
    {
     "data": {
      "image/png": "[encoded data removed]",
      "text/plain": [
       "<matplotlib.figure.Figure at 0x11bebf390>"
      ]
     },
     "metadata": {},
     "output_type": "display_data"
    }
   ],
   "source": [
    "# first, plot e1 and e2\n",
    "plotVec2(np.vstack((e1, e2)))"
   ]
  },
  {
   "cell_type": "code",
   "execution_count": 256,
   "metadata": {},
   "outputs": [
    {
     "data": {
      "image/png": "[encoded data removed]",
      "text/plain": [
       "<matplotlib.figure.Figure at 0x11beb8390>"
      ]
     },
     "metadata": {},
     "output_type": "display_data"
    }
   ],
   "source": [
    "# next, plot Vhe1 and Vhe2. Notice that this is just a rotation\n",
    "plotVec2(np.vstack((Vhe1, Vhe2)))"
   ]
  },
  {
   "cell_type": "code",
   "execution_count": 257,
   "metadata": {},
   "outputs": [
    {
     "data": {
      "image/png": "[encoded data removed]",
      "text/plain": [
       "<matplotlib.figure.Figure at 0x11c2b98d0>"
      ]
     },
     "metadata": {},
     "output_type": "display_data"
    }
   ],
   "source": [
    "# next, plot SVhe1 and SVhe2. Here we actually change lengths and the angle.\n",
    "plotVec2(np.vstack((SVhe1, SVhe2)))"
   ]
  },
  {
   "cell_type": "code",
   "execution_count": 258,
   "metadata": {},
   "outputs": [
    {
     "data": {
      "image/png": "[encoded data removed]",
      "text/plain": [
       "<matplotlib.figure.Figure at 0x11bf71278>"
      ]
     },
     "metadata": {},
     "output_type": "display_data"
    }
   ],
   "source": [
    "# next, plot USVhe1 and USVhe2. Notice that this is just a rotation.\n",
    "plotVec2(np.vstack((USVhe1, USVhe2)))"
   ]
  },
  {
   "cell_type": "markdown",
   "metadata": {},
   "source": [
    "## part (d)"
   ]
  },
  {
   "cell_type": "code",
   "execution_count": 140,
   "metadata": {
    "collapsed": true
   },
   "outputs": [],
   "source": [
    "# create theta vector\n",
    "thetas = np.array([2*np.pi*n/64 for n in range(65)])\n",
    "P = np.hstack([[[np.cos(theta)], [np.sin(theta)]] for theta in thetas])"
   ]
  },
  {
   "cell_type": "code",
   "execution_count": 201,
   "metadata": {
    "collapsed": true
   },
   "outputs": [],
   "source": [
    "def plot_points(P):\n",
    "    \"\"\"Function to plot the points w/ a single blue curve through them & a red star.\"\"\"\n",
    "    # First, plot the axes\n",
    "    plt.figure(figsize=(10, 10))\n",
    "    plt.plot([-1, 1], [0, 0], c='black')\n",
    "    plt.plot([0, 0], [-1, 1], c='black')\n",
    "    # Now, plot the points & circle\n",
    "    plt.scatter(P[0], P[1], s=20, c='b')\n",
    "    plt.plot(P[0], P[1], c='b')\n",
    "    # Now the red star\n",
    "    plt.scatter(P[0,0], P[1,0], s=400, c='r', marker='*')\n",
    "    plt.ylim([-2.5, 2.5])\n",
    "    plt.xlim([-2.5, 2.5])\n",
    "    plt.show()"
   ]
  },
  {
   "cell_type": "code",
   "execution_count": 202,
   "metadata": {},
   "outputs": [
    {
     "data": {
      "image/png": "[encoded data removed]",
      "text/plain": [
       "<matplotlib.figure.Figure at 0x11c1dc8d0>"
      ]
     },
     "metadata": {},
     "output_type": "display_data"
    }
   ],
   "source": [
    "# plot initial points\n",
    "plot_points(P)"
   ]
  },
  {
   "cell_type": "code",
   "execution_count": 206,
   "metadata": {},
   "outputs": [
    {
     "data": {
      "image/png": "[encoded data removed]",
      "text/plain": [
       "<matplotlib.figure.Figure at 0x11bf806d8>"
      ]
     },
     "metadata": {},
     "output_type": "display_data"
    }
   ],
   "source": [
    "# this is a slight rotation\n",
    "VhP = np.matmul(Vh, P)\n",
    "plot_points(VhP)"
   ]
  },
  {
   "cell_type": "markdown",
   "metadata": {},
   "source": [
    "Here we see a rotation of the points to the left. Recall that an orthogonal \n",
    "matrix transformation is a simple rotation operation."
   ]
  },
  {
   "cell_type": "code",
   "execution_count": 207,
   "metadata": {},
   "outputs": [
    {
     "data": {
      "image/png": "[encoded data removed]",
      "text/plain": [
       "<matplotlib.figure.Figure at 0x11bdfe908>"
      ]
     },
     "metadata": {},
     "output_type": "display_data"
    }
   ],
   "source": [
    "# Now vectors get scaled (different scale for each dimension)\n",
    "SVhP = np.matmul(S, VhP)\n",
    "plot_points(SVhP)"
   ]
  },
  {
   "cell_type": "markdown",
   "metadata": {},
   "source": [
    "Here we see a scaling of the points. The x and y values of each point are scaled \n",
    "separately. This is what we expect from the singular value matrix transformation."
   ]
  },
  {
   "cell_type": "code",
   "execution_count": 205,
   "metadata": {},
   "outputs": [
    {
     "data": {
      "image/png": "[encoded data removed]",
      "text/plain": [
       "<matplotlib.figure.Figure at 0x11be76c18>"
      ]
     },
     "metadata": {},
     "output_type": "display_data"
    }
   ],
   "source": [
    "# now vectors get rotated\n",
    "USVhP = np.matmul(U, SVhP)\n",
    "plot_points(USVhP)"
   ]
  },
  {
   "cell_type": "markdown",
   "metadata": {},
   "source": [
    "Here we see another simple rotation of the points, appropriate of an\n",
    "orthogonal matrix transformation."
   ]
  },
  {
   "cell_type": "markdown",
   "metadata": {},
   "source": [
    "# Problem #3"
   ]
  },
  {
   "cell_type": "markdown",
   "metadata": {},
   "source": [
    "## Part (a)"
   ]
  },
  {
   "cell_type": "markdown",
   "metadata": {},
   "source": [
    "The unit vector that would elicit the largest response is [0, 0, 1, 0, 0]. According to the \n",
    "weight vector that describes this filter, this neuron responds maximally to inputs in the 3rd dimension.\n",
    "Therefore we can optimize for this neuron by putting all of our vector length in this dimension."
   ]
  },
  {
   "cell_type": "markdown",
   "metadata": {},
   "source": [
    "## Part (b)"
   ]
  },
  {
   "cell_type": "code",
   "execution_count": 213,
   "metadata": {
    "collapsed": true
   },
   "outputs": [],
   "source": [
    "# here is a non-unit vector that will work\n",
    "v = np.asarray([-1, 0, 1, -1, -1])\n",
    "# it will still work if we normalize it to be unit length\n",
    "v_hat = v / np.linalg.norm(v)\n",
    "# let's verify it\n",
    "w = np.asarray([1, 3, 4, 2, 1])\n",
    "assert(np.dot(v_hat, w) == 0)"
   ]
  },
  {
   "cell_type": "code",
   "execution_count": 212,
   "metadata": {},
   "outputs": [
    {
     "data": {
      "text/plain": [
       "array([-0.5,  0. ,  0.5, -0.5, -0.5])"
      ]
     },
     "execution_count": 212,
     "metadata": {},
     "output_type": "execute_result"
    }
   ],
   "source": [
    "v_hat"
   ]
  },
  {
   "cell_type": "markdown",
   "metadata": {},
   "source": [
    "This is not a physically realizable stimulus, because it involves negative values. You cannot have a negative light intensity value. The only physicially realizable stimulus that could elicit a zero response in this neuron is the zero vector. The neuron would have to have some negative weight dimensions for any other stimulus to work."
   ]
  },
  {
   "cell_type": "markdown",
   "metadata": {},
   "source": [
    "# Problem #4"
   ]
  },
  {
   "cell_type": "code",
   "execution_count": 291,
   "metadata": {
    "collapsed": true
   },
   "outputs": [],
   "source": [
    "def gramSchmidt(N):\n",
    "    # Let's keep a list of our vectors\n",
    "    vecs = []\n",
    "    # We're going to create N vectors. Each will follow the same set of operations.\n",
    "    # Let's loop through.\n",
    "    for i in range(N):\n",
    "        # Generate random vector\n",
    "        v = np.random.normal(size=(N,))\n",
    "        # Go through all previously created basis vectors and subtract off the projection\n",
    "        # of our current\n",
    "        for v_p in vecs:\n",
    "            v = v - np.dot(v, v_p)*v_p\n",
    "        # normalize it so that it has length 1\n",
    "        v = v / np.linalg.norm(v)\n",
    "        # add it to our list\n",
    "        vecs.append(v)\n",
    "        \n",
    "    return np.hstack([v.reshape(-1,1) for v in vecs])"
   ]
  },
  {
   "cell_type": "code",
   "execution_count": 292,
   "metadata": {
    "collapsed": true
   },
   "outputs": [],
   "source": [
    "# Lets test with N = 3\n",
    "M_orth = gramSchmidt(3)"
   ]
  },
  {
   "cell_type": "code",
   "execution_count": 320,
   "metadata": {},
   "outputs": [
    {
     "data": {
      "image/png": "[encoded data removed]",
      "text/plain": [
       "<matplotlib.figure.Figure at 0x11bbfe0f0>"
      ]
     },
     "metadata": {},
     "output_type": "display_data"
    }
   ],
   "source": [
    "# Now let's plot our 3 basis vectors in a 3d plot\n",
    "from mpl_toolkits.mplot3d import Axes3D\n",
    "\n",
    "fig = plt.figure(figsize=(12, 10))\n",
    "ax = fig.add_subplot(111, projection='3d')\n",
    "# plot our 3 basis vectors\n",
    "for i in range(3):\n",
    "    x, y, z = M_orth[:, i]\n",
    "    ax.plot([0, x], [0, y], [0, z])\n",
    "ax.autoscale_view(scalex=True, scaley=True, scalez=True)\n",
    "plt.show()"
   ]
  },
  {
   "cell_type": "code",
   "execution_count": 322,
   "metadata": {
    "collapsed": true
   },
   "outputs": [],
   "source": [
    "# Now let's generate an orthogonal matrix with N > 3 and verify it\n",
    "M_orth4 = gramSchmidt(4)"
   ]
  },
  {
   "cell_type": "code",
   "execution_count": 330,
   "metadata": {
    "collapsed": true
   },
   "outputs": [],
   "source": [
    "def verify_orthogonal(matrix):\n",
    "    \"\"\"Use this function to verify that the matrix is orthogonal\"\"\"\n",
    "    # it should be square\n",
    "    assert matrix.shape[0] == matrix.shape[1]\n",
    "    # loop through column/row indices...\n",
    "    for i in range(matrix.shape[0]):\n",
    "        col = matrix[:, i]\n",
    "        row = matrix[i]\n",
    "        # make sure the row and column vectors are all unit length\n",
    "        # (allow for small precision errors)\n",
    "        assert np.abs(np.linalg.norm(col) - 1.) < 1e-5\n",
    "        assert np.abs(np.linalg.norm(row) - 1.) < 1e-5\n",
    "        # go throw other rows and cols and make sure we are orthogonal to them all\n",
    "        other_inds = list(range(matrix.shape[0]))\n",
    "        other_inds.remove(i)\n",
    "        for j in other_inds:\n",
    "            # dot product test of orthogonality; dot product should be zero\n",
    "            # (allow for small precision errors)\n",
    "            assert np.abs(np.dot(col, matrix[:, j])) < 1e-5\n",
    "            assert np.abs(np.dot(row, matrix[j])) < 1e-5\n",
    "    print('Verified: matrix is orthogonal.')"
   ]
  },
  {
   "cell_type": "code",
   "execution_count": 331,
   "metadata": {},
   "outputs": [
    {
     "name": "stdout",
     "output_type": "stream",
     "text": [
      "Verified: matrix is orthogonal.\n"
     ]
    }
   ],
   "source": [
    "# This passes - great success!\n",
    "verify_orthogonal(M_orth4)"
   ]
  },
  {
   "cell_type": "markdown",
   "metadata": {},
   "source": [
    "# Problem #5"
   ]
  },
  {
   "cell_type": "code",
   "execution_count": 2,
   "metadata": {
    "collapsed": true
   },
   "outputs": [],
   "source": [
    "# load the data file\n",
    "import scipy.io as sio\n",
    "data = sio.loadmat('./mtxExamples.mat')"
   ]
  },
  {
   "cell_type": "code",
   "execution_count": 3,
   "metadata": {},
   "outputs": [
    {
     "data": {
      "text/plain": [
       "{'__globals__': [],\n",
       " '__header__': b'MATLAB 5.0 MAT-file, Platform: MACI64, Created on: Mon Sep 11 10:04:11 2017',\n",
       " '__version__': '1.0',\n",
       " 'mtx1': array([[-0.58270902, -1.29931593, -0.11040614],\n",
       "        [-1.67174677, -3.54875482, -5.08449222]]),\n",
       " 'mtx2': array([[-2.10159657,  1.09455262,  0.54227098],\n",
       "        [ 0.97597203, -0.50830533, -0.25182821],\n",
       "        [-3.26218446,  1.6990095 ,  0.84173527]]),\n",
       " 'mtx3': array([[  2.41396453,   2.81563905],\n",
       "        [ -2.23106477, -13.0602928 ],\n",
       "        [ -1.17314897, -10.30842011]]),\n",
       " 'mtx4': array([[-0.83115196,  1.92170834,  0.47634232],\n",
       "        [ 0.01513876, -0.03500235, -0.00867619]])}"
      ]
     },
     "execution_count": 3,
     "metadata": {},
     "output_type": "execute_result"
    }
   ],
   "source": [
    "# inspect it\n",
    "data"
   ]
  },
  {
   "cell_type": "markdown",
   "metadata": {},
   "source": [
    "## mtx1"
   ]
  },
  {
   "cell_type": "code",
   "execution_count": 18,
   "metadata": {},
   "outputs": [
    {
     "name": "stdout",
     "output_type": "stream",
     "text": [
      "[[-0.15135516 -0.98847945]\n",
      " [-0.98847945  0.15135516]] \n",
      "\n",
      "[[ 6.49473627  0.          0.        ]\n",
      " [ 0.          1.04824667  0.        ]] \n",
      "\n",
      "[[ 0.26801448  0.5703895   0.77641745]\n",
      " [ 0.30810342  0.71283291 -0.63003296]\n",
      " [-0.91282009  0.40807483  0.01531058]]\n"
     ]
    }
   ],
   "source": [
    "# using our function 'svd' from problem #2, decompose mtx1\n",
    "U1, S1, Vh1 = svd(data['mtx1'])\n",
    "# observe the contents\n",
    "print(U1, '\\n')\n",
    "print(S1, '\\n')\n",
    "print(Vh1)"
   ]
  },
  {
   "cell_type": "code",
   "execution_count": 22,
   "metadata": {},
   "outputs": [
    {
     "data": {
      "text/plain": [
       "array([-1.17825054, -5.74768762])"
      ]
     },
     "execution_count": 22,
     "metadata": {},
     "output_type": "execute_result"
    }
   ],
   "source": [
    "np.matmul(data['mtx1'], np.array([-0.13, 0.92, 0.531058]))"
   ]
  },
  {
   "cell_type": "markdown",
   "metadata": {},
   "source": [
    "### (a)\n",
    "For this matrix, the two singular values are nonzero. However, we have one less singular value than we have row vectors in Vh. Thus, the information projected onto the 3rd dimension of Vh is thrown away. So the nullspace is the space spanned by the vector [-0.913, 0.408, 0.015]."
   ]
  },
  {
   "cell_type": "code",
   "execution_count": 33,
   "metadata": {},
   "outputs": [],
   "source": [
    "def generate_null_mtx1():\n",
    "    \"\"\"Function to generate a vector from the nullspace of mtx1.\"\"\"\n",
    "    # The space spanned by a single vector is simply the space of all\n",
    "    # vectors parallel to that vector, i.e. all vectors that are a scalar\n",
    "    # multiple.\n",
    "    vec = np.array([-0.91282009, 0.40807483, 0.01531058])\n",
    "    # generate a random scale\n",
    "    scale = np.random.randn()\n",
    "    \n",
    "    return scale*vec"
   ]
  },
  {
   "cell_type": "code",
   "execution_count": 36,
   "metadata": {},
   "outputs": [
    {
     "name": "stdout",
     "output_type": "stream",
     "text": [
      "result of projection:  [ -1.09044519e-09  -9.55316866e-10]\n"
     ]
    }
   ],
   "source": [
    "# Generate a random example vector from nullspace\n",
    "vec = generate_null_mtx1()\n",
    "# Test that our matrix maps it to zero (allow for small precision error)\n",
    "print('result of projection: ', np.matmul(data['mtx1'], vec))"
   ]
  },
  {
   "cell_type": "markdown",
   "metadata": {},
   "source": [
    "So we see that this gets mapped to the zero vector (will small precision error)"
   ]
  },
  {
   "cell_type": "markdown",
   "metadata": {},
   "source": [
    "### (b)"
   ]
  },
  {
   "cell_type": "markdown",
   "metadata": {},
   "source": [
    "We have two non-zero singular values and two column vectors in our U matrix. Therefore the rangespace of this\n",
    "matrix transformation is the space spanned by the two column vectors in U."
   ]
  },
  {
   "cell_type": "code",
   "execution_count": null,
   "metadata": {
    "collapsed": true
   },
   "outputs": [],
   "source": [
    "def generate_range_mtx1():\n",
    "    \"\"\"Function to generate a vector from the rangespace of mtx1.\"\"\""
   ]
  },
  {
   "cell_type": "markdown",
   "metadata": {},
   "source": [
    "## mtx2"
   ]
  },
  {
   "cell_type": "code",
   "execution_count": 19,
   "metadata": {},
   "outputs": [
    {
     "name": "stdout",
     "output_type": "stream",
     "text": [
      "[[-0.52521737 -0.84937023  0.05212411]\n",
      " [ 0.24390859 -0.09157494  0.96546498]\n",
      " [-0.81526396  0.51979249  0.25526545]] \n",
      "\n",
      "[[  4.62818793e+00   0.00000000e+00   0.00000000e+00]\n",
      " [  0.00000000e+00   5.60675972e-16   0.00000000e+00]\n",
      " [  0.00000000e+00   0.00000000e+00   3.19837016e-18]] \n",
      "\n",
      "[[ 0.86456826 -0.45028407 -0.22308291]\n",
      " [ 0.50008768  0.81454694  0.29398231]\n",
      " [-0.04933595  0.36572879 -0.92941294]]\n"
     ]
    }
   ],
   "source": [
    "# decompose mtx2\n",
    "U2, S2, Vh2 = svd(data['mtx2'])\n",
    "# observe the contents\n",
    "print(U2, '\\n')\n",
    "print(S2, '\\n')\n",
    "print(Vh2)"
   ]
  },
  {
   "cell_type": "code",
   "execution_count": null,
   "metadata": {
    "collapsed": true
   },
   "outputs": [],
   "source": []
  }
 ],
 "metadata": {
  "kernelspec": {
   "display_name": "Python 3",
   "language": "python",
   "name": "python3"
  },
  "language_info": {
   "codemirror_mode": {
    "name": "ipython",
    "version": 3
   },
   "file_extension": ".py",
   "mimetype": "text/x-python",
   "name": "python",
   "nbconvert_exporter": "python",
   "pygments_lexer": "ipython3",
   "version": "3.6.1"
  }
 },
 "nbformat": 4,
 "nbformat_minor": 2
}
