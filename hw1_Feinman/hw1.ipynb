{
 "cells": [
  {
   "cell_type": "markdown",
   "metadata": {},
   "source": [
    "# Problem #1"
   ]
  },
  {
   "cell_type": "markdown",
   "metadata": {},
   "source": [
    "## System 1"
   ]
  },
  {
   "cell_type": "code",
   "execution_count": 1,
   "metadata": {
    "collapsed": true
   },
   "outputs": [],
   "source": [
    "import numpy as np\n",
    "np.random.seed(0)"
   ]
  },
  {
   "cell_type": "code",
   "execution_count": 2,
   "metadata": {
    "collapsed": true
   },
   "outputs": [],
   "source": [
    "# Let's call the system S(). We have a vector 'a' and a vector 'b' defined as:\n",
    "a = np.array([2, 4])\n",
    "b = np.array([-1, -2])"
   ]
  },
  {
   "cell_type": "code",
   "execution_count": 3,
   "metadata": {
    "collapsed": true
   },
   "outputs": [],
   "source": [
    "# Note that a = -2b\n",
    "assert np.array_equal(a, -2*b)"
   ]
  },
  {
   "cell_type": "code",
   "execution_count": 4,
   "metadata": {
    "collapsed": true
   },
   "outputs": [],
   "source": [
    "# We also know the outputs of the system S(a) and S(b)\n",
    "S_a = np.array([-6, -6])\n",
    "S_b = np.array([3, 3])"
   ]
  },
  {
   "cell_type": "code",
   "execution_count": 5,
   "metadata": {
    "collapsed": true
   },
   "outputs": [],
   "source": [
    "# Since a = -2b, then for the system to be linear, we must have that\n",
    "# S(a) = -2S(b) by the principle of superposition. Let's check:\n",
    "assert np.array_equal(S_a, -2*S_b)"
   ]
  },
  {
   "cell_type": "markdown",
   "metadata": {},
   "source": [
    "Now let's find a matrix that could be associated with this system. \n",
    "We know by dimension rules that this must be a 2x2 matrix. Let's \n",
    "call it M:\n",
    "             \n",
    "            M =   [m_00, m_01]\n",
    "                  [m_10, m_11]\n",
    "                  \n",
    "We know that Ma = [-6, -6]. So we have 2m_00 + 4m_01 = -6. We also know\n",
    "that Mb = [3, 3], but this doesn't add any information because b is a\n",
    "linear combination of a. So one possible solution is m_00 = -1 and \n",
    "m_01 = -1, but this is not unique because we have 2 variables and 1 \n",
    "equality. We also have 2m_10 + 4m_11 = -6, which leads us to possible\n",
    "values m_10 = -1, m_11 = -1. But these values are again not unique,\n",
    "for the same reasoning. So we have\n",
    "            \n",
    "            M = [-1, -1]\n",
    "                [-1, -1]\n",
    "                \n",
    "as a possible matrix for this system, but it is not unique (explained\n",
    "above)."
   ]
  },
  {
   "cell_type": "code",
   "execution_count": 6,
   "metadata": {
    "collapsed": true
   },
   "outputs": [],
   "source": [
    "# Check that M works\n",
    "M = np.array([[-1, -1], [-1, -1]])\n",
    "assert np.array_equal(np.matmul(M, a), S_a)\n",
    "assert np.array_equal(np.matmul(M, b), S_b)"
   ]
  },
  {
   "cell_type": "markdown",
   "metadata": {},
   "source": [
    "## System 2"
   ]
  },
  {
   "cell_type": "code",
   "execution_count": 7,
   "metadata": {
    "collapsed": true
   },
   "outputs": [],
   "source": [
    "# Again we have 'a' and 'b'\n",
    "a = 1\n",
    "b = 2"
   ]
  },
  {
   "cell_type": "code",
   "execution_count": 8,
   "metadata": {
    "collapsed": true
   },
   "outputs": [],
   "source": [
    "# Note that b = 2a\n",
    "assert b == 2*a"
   ]
  },
  {
   "cell_type": "code",
   "execution_count": 9,
   "metadata": {},
   "outputs": [
    {
     "ename": "AssertionError",
     "evalue": "",
     "output_type": "error",
     "traceback": [
      "\u001b[0;31m---------------------------------------------------------------------------\u001b[0m",
      "\u001b[0;31mAssertionError\u001b[0m                            Traceback (most recent call last)",
      "\u001b[0;32m<ipython-input-9-5aeaaa73d9e4>\u001b[0m in \u001b[0;36m<module>\u001b[0;34m()\u001b[0m\n\u001b[1;32m      2\u001b[0m \u001b[0mS_a\u001b[0m \u001b[0;34m=\u001b[0m \u001b[0mnp\u001b[0m\u001b[0;34m.\u001b[0m\u001b[0marray\u001b[0m\u001b[0;34m(\u001b[0m\u001b[0;34m[\u001b[0m\u001b[0;36m1\u001b[0m\u001b[0;34m,\u001b[0m \u001b[0;36m4\u001b[0m\u001b[0;34m]\u001b[0m\u001b[0;34m)\u001b[0m\u001b[0;34m\u001b[0m\u001b[0m\n\u001b[1;32m      3\u001b[0m \u001b[0mS_b\u001b[0m \u001b[0;34m=\u001b[0m \u001b[0mnp\u001b[0m\u001b[0;34m.\u001b[0m\u001b[0marray\u001b[0m\u001b[0;34m(\u001b[0m\u001b[0;34m[\u001b[0m\u001b[0;36m2\u001b[0m\u001b[0;34m,\u001b[0m \u001b[0;36m6\u001b[0m\u001b[0;34m]\u001b[0m\u001b[0;34m)\u001b[0m\u001b[0;34m\u001b[0m\u001b[0m\n\u001b[0;32m----> 4\u001b[0;31m \u001b[0;32massert\u001b[0m \u001b[0mnp\u001b[0m\u001b[0;34m.\u001b[0m\u001b[0marray_equal\u001b[0m\u001b[0;34m(\u001b[0m\u001b[0mS_b\u001b[0m\u001b[0;34m,\u001b[0m \u001b[0;36m2\u001b[0m\u001b[0;34m*\u001b[0m\u001b[0mS_a\u001b[0m\u001b[0;34m)\u001b[0m\u001b[0;34m\u001b[0m\u001b[0m\n\u001b[0m",
      "\u001b[0;31mAssertionError\u001b[0m: "
     ]
    }
   ],
   "source": [
    "# Check whether S(b) = 2S(a)\n",
    "S_a = np.array([1, 4])\n",
    "S_b = np.array([2, 6])\n",
    "assert np.array_equal(S_b, 2*S_a)"
   ]
  },
  {
   "cell_type": "markdown",
   "metadata": {},
   "source": [
    "S(b) != 2S(a). So S() is not a linear system because it\n",
    "does not follow the principle of superposition."
   ]
  },
  {
   "cell_type": "markdown",
   "metadata": {},
   "source": [
    "## System 3"
   ]
  },
  {
   "cell_type": "code",
   "execution_count": 10,
   "metadata": {
    "collapsed": true
   },
   "outputs": [],
   "source": [
    "# Now we have 3 vectors 'a,' 'b' and 'c'\n",
    "a = np.array([1, 1])\n",
    "b = np.array([1, -0.5])\n",
    "c = np.array([3, 0])"
   ]
  },
  {
   "cell_type": "code",
   "execution_count": 11,
   "metadata": {
    "collapsed": true
   },
   "outputs": [],
   "source": [
    "# Note that c = a + 2b\n",
    "assert np.array_equal(c, a + 2*b)"
   ]
  },
  {
   "cell_type": "code",
   "execution_count": 12,
   "metadata": {},
   "outputs": [
    {
     "ename": "AssertionError",
     "evalue": "",
     "output_type": "error",
     "traceback": [
      "\u001b[0;31m---------------------------------------------------------------------------\u001b[0m",
      "\u001b[0;31mAssertionError\u001b[0m                            Traceback (most recent call last)",
      "\u001b[0;32m<ipython-input-12-d93c9f34ec58>\u001b[0m in \u001b[0;36m<module>\u001b[0;34m()\u001b[0m\n\u001b[1;32m      3\u001b[0m \u001b[0mS_b\u001b[0m \u001b[0;34m=\u001b[0m \u001b[0mnp\u001b[0m\u001b[0;34m.\u001b[0m\u001b[0marray\u001b[0m\u001b[0;34m(\u001b[0m\u001b[0;34m[\u001b[0m\u001b[0;36m1\u001b[0m\u001b[0;34m,\u001b[0m \u001b[0;36m3\u001b[0m\u001b[0;34m]\u001b[0m\u001b[0;34m)\u001b[0m\u001b[0;34m\u001b[0m\u001b[0m\n\u001b[1;32m      4\u001b[0m \u001b[0mS_c\u001b[0m \u001b[0;34m=\u001b[0m \u001b[0mnp\u001b[0m\u001b[0;34m.\u001b[0m\u001b[0marray\u001b[0m\u001b[0;34m(\u001b[0m\u001b[0;34m[\u001b[0m\u001b[0;36m6\u001b[0m\u001b[0;34m,\u001b[0m \u001b[0;36m2\u001b[0m\u001b[0;34m]\u001b[0m\u001b[0;34m)\u001b[0m\u001b[0;34m\u001b[0m\u001b[0m\n\u001b[0;32m----> 5\u001b[0;31m \u001b[0;32massert\u001b[0m \u001b[0mnp\u001b[0m\u001b[0;34m.\u001b[0m\u001b[0marray_equal\u001b[0m\u001b[0;34m(\u001b[0m\u001b[0mS_c\u001b[0m\u001b[0;34m,\u001b[0m \u001b[0mS_a\u001b[0m \u001b[0;34m+\u001b[0m \u001b[0;36m2\u001b[0m\u001b[0;34m*\u001b[0m\u001b[0mS_b\u001b[0m\u001b[0;34m)\u001b[0m\u001b[0;34m\u001b[0m\u001b[0m\n\u001b[0m",
      "\u001b[0;31mAssertionError\u001b[0m: "
     ]
    }
   ],
   "source": [
    "# Check whether S(c) = S(a) + 2S(b)\n",
    "S_a = np.array([4, -1])\n",
    "S_b = np.array([1, 3])\n",
    "S_c = np.array([6, 2])\n",
    "assert np.array_equal(S_c, S_a + 2*S_b)"
   ]
  },
  {
   "cell_type": "markdown",
   "metadata": {},
   "source": [
    "S(c) != S(a) + 2S(b). So S() is not a linear system because it does not follow the principle of superposition."
   ]
  },
  {
   "cell_type": "markdown",
   "metadata": {},
   "source": [
    "## System 4"
   ]
  },
  {
   "cell_type": "code",
   "execution_count": 13,
   "metadata": {
    "collapsed": true
   },
   "outputs": [],
   "source": [
    "# we have 2 vectors 'a' and 'b'\n",
    "a = np.asarray([2, 4])\n",
    "b = np.asarray([-2, 2])"
   ]
  },
  {
   "cell_type": "markdown",
   "metadata": {},
   "source": [
    "We can't use the superposition test here because we cannot \n",
    "write one vector as a linear combination of the others. But we \n",
    "know that the operator would have to be a 1x2 matrix M, so we can \n",
    "do some basic algebra:\n",
    "            \n",
    "            2m_00 + 4m_01 = 0  -->  m_00 = -2m_01\n",
    "            -2m_00 + 2m_01 = 3  -->  -2(-2m_01) + 2m_01 = 3\n",
    "            -->  6m_01 = 3  -->  m_01 = 0.5\n",
    "            m_00 = -2(0.5) = -1\n",
    "            \n",
    "So the system is linear, because we have a 1x2 matrix M that satisfies\n",
    "Ma = 0 and Mb = 3. This matrix is M = [-1, 0.5] and I believe it\n",
    "is unique, because there was a unique solution when solving the\n",
    "system of equations to find it."
   ]
  },
  {
   "cell_type": "code",
   "execution_count": 14,
   "metadata": {
    "collapsed": true
   },
   "outputs": [],
   "source": [
    "# Check that M works\n",
    "M = np.asarray([[-1, 0.5]])\n",
    "# note: result of np.matmul(M, a) will be a 1-D vector, so we have to\n",
    "# index to get the scalar\n",
    "assert np.array_equal(np.matmul(M, a)[0], 0)\n",
    "assert np.array_equal(np.matmul(M, b)[0], 3)"
   ]
  },
  {
   "cell_type": "markdown",
   "metadata": {},
   "source": [
    "## System 5"
   ]
  },
  {
   "cell_type": "markdown",
   "metadata": {},
   "source": [
    "This cannot be a linear system. In order for this to be a linear system,\n",
    "we would need to find a matrix M such that M0 = [1,2]. But any matrix\n",
    "multiplied by the scalar 0 will have a resulting matrix with entries\n",
    "that are all zeros. So this cannot be a linear system."
   ]
  },
  {
   "cell_type": "markdown",
   "metadata": {},
   "source": [
    "# Problem #2"
   ]
  },
  {
   "cell_type": "markdown",
   "metadata": {},
   "source": [
    "## Part (a)"
   ]
  },
  {
   "cell_type": "code",
   "execution_count": 15,
   "metadata": {
    "collapsed": true
   },
   "outputs": [],
   "source": [
    "%matplotlib inline\n",
    "import matplotlib.pylab as plt"
   ]
  },
  {
   "cell_type": "code",
   "execution_count": 79,
   "metadata": {
    "collapsed": true
   },
   "outputs": [],
   "source": [
    "def plotVec2(matrix, boundary=3):\n",
    "    \"\"\"\n",
    "    The plotVec2 function. 'boundary' parameter determines the x and y limits\n",
    "    of the plot - it will always be square to keep the x and y axis in equal\n",
    "    scale as requested.\n",
    "    \"\"\"\n",
    "    assert matrix.shape[0] == 2, \"Matrix must have height 2.\"\n",
    "    plt.figure(figsize=(10, 10))\n",
    "    # First, plot the axes\n",
    "    plt.plot([-1, 1], [0, 0], c='black')\n",
    "    plt.plot([0, 0], [-1, 1], c='black')\n",
    "    # Randomly generate colors for each line. Colors are 3D vectors of\n",
    "    # RGB values between 0-1.\n",
    "    colors = np.random.uniform(size=(matrix.shape[1], 3))\n",
    "    # Now cycle through the column vectors and plot each\n",
    "    for i in range(matrix.shape[1]):\n",
    "        x, y = matrix[:, i]\n",
    "        plt.plot([0, x], [0, y], c=colors[i])\n",
    "        plt.scatter([x], [y], c=colors[i])\n",
    "    # set x and y limits\n",
    "    plt.ylim(-boundary, boundary)\n",
    "    plt.xlim(-boundary, boundary)\n",
    "    plt.show()"
   ]
  },
  {
   "cell_type": "code",
   "execution_count": 17,
   "metadata": {},
   "outputs": [
    {
     "name": "stdout",
     "output_type": "stream",
     "text": [
      "Matrix:\n",
      "[[ 1.76405235  0.40015721  0.97873798  2.2408932 ]\n",
      " [ 1.86755799 -0.97727788  0.95008842 -0.15135721]]\n"
     ]
    },
    {
     "data": {
      "image/png": "[encoded data removed]",
      "text/plain": [
       "<matplotlib.figure.Figure at 0x1171ea0b8>"
      ]
     },
     "metadata": {},
     "output_type": "display_data"
    }
   ],
   "source": [
    "# Generate a random height-2 matrix and plot the columns using our function\n",
    "matrix = np.random.normal(size=(2, 4))\n",
    "print('Matrix:')\n",
    "print(matrix)\n",
    "plotVec2(matrix)"
   ]
  },
  {
   "cell_type": "markdown",
   "metadata": {},
   "source": [
    "## Part (b)"
   ]
  },
  {
   "cell_type": "code",
   "execution_count": 41,
   "metadata": {
    "collapsed": true
   },
   "outputs": [],
   "source": [
    "import math\n",
    "\n",
    "def vecLenAngle(v1, v2, verbose=False):\n",
    "    \"\"\"\n",
    "    Angles are returned in radians. If one or more of the vectors has \n",
    "    zero length, 'N/A' is returned for the angle.\n",
    "    \"\"\"\n",
    "    # The magnitude is the sqrt of the sum of component squares\n",
    "    mag1 = np.sqrt(np.sum(np.square(v1)))\n",
    "    mag2 = np.sqrt(np.sum(np.square(v2)))\n",
    "    # Dot product = mag1*mag2*cos(theta), where theta is the angle between v1\n",
    "    # and v2. So theta = arccos(dot/(mag1*mag2))\n",
    "    dot = np.sum(np.multiply(v1, v2))\n",
    "    if mag1*mag2 == 0:\n",
    "        theta = 'N/A'\n",
    "    else:\n",
    "        theta = math.degrees(np.arccos(dot/(mag1*mag2)))\n",
    "        \n",
    "    if verbose:\n",
    "        print('Magnitude of vector 1: %0.2f' % mag1)\n",
    "        print('Magnitude of vector 2: %0.2f' % mag2)\n",
    "        if type(theta) == str:\n",
    "            print('Angle N/A')\n",
    "        else:\n",
    "            print('Angle: %0.1f degrees' % theta)\n",
    "    \n",
    "    return mag1, mag2, theta"
   ]
  },
  {
   "cell_type": "code",
   "execution_count": 19,
   "metadata": {},
   "outputs": [
    {
     "name": "stdout",
     "output_type": "stream",
     "text": [
      "Vector 1:\n",
      "[ 1.49407907 -0.20515826]\n",
      "Vector 2:\n",
      "[ 0.3130677  -0.85409574]\n",
      "Magnitude of vector 1: 1.51\n",
      "Magnitude of vector 2: 0.91\n",
      "Angle: 62.1 degrees\n"
     ]
    }
   ],
   "source": [
    "# Generate two random vectors and use our function to compute\n",
    "# the magnitudes & lengths\n",
    "v1 = np.random.normal(size=(2,))\n",
    "v2 = np.random.normal(size=(2,))\n",
    "print('Vector 1:')\n",
    "print(v1)\n",
    "print('Vector 2:')\n",
    "print(v2)\n",
    "mag1, mag2, theta = vecLenAngle(v1, v2, verbose=True)"
   ]
  },
  {
   "cell_type": "markdown",
   "metadata": {},
   "source": [
    "## Part (c)"
   ]
  },
  {
   "cell_type": "code",
   "execution_count": 20,
   "metadata": {
    "collapsed": true
   },
   "outputs": [],
   "source": [
    "# generate a random matrix of size (2, 2)\n",
    "matrix = np.random.normal(size=(2, 2))"
   ]
  },
  {
   "cell_type": "code",
   "execution_count": 21,
   "metadata": {
    "collapsed": true
   },
   "outputs": [],
   "source": [
    "# writing a wrapper for numpy's SVD because numpy returns singular values as an array (weird).\n",
    "def svd(matrix):\n",
    "    U, s, Vh = np.linalg.svd(matrix)\n",
    "    S = np.zeros(matrix.shape, dtype=float)\n",
    "    S[:len(s), :len(s)] = np.diag(s)\n",
    "    return U, S, Vh"
   ]
  },
  {
   "cell_type": "code",
   "execution_count": 51,
   "metadata": {},
   "outputs": [
    {
     "name": "stdout",
     "output_type": "stream",
     "text": [
      "U: \n",
      " [[-0.92837386  0.37164766]\n",
      " [ 0.37164766  0.92837386]]\n",
      "S: \n",
      " [[ 2.83242557  0.        ]\n",
      " [ 0.          0.46946623]]\n",
      "Vh: \n",
      " [[ 0.95020844 -0.31161501]\n",
      " [-0.31161501 -0.95020844]]\n"
     ]
    }
   ],
   "source": [
    "# decompose our matrix with SVD\n",
    "U, S, Vh = svd(matrix)\n",
    "# observe the contents\n",
    "print('U: \\n', U)\n",
    "print('S: \\n', S)\n",
    "print('Vh: \\n', Vh)"
   ]
  },
  {
   "cell_type": "code",
   "execution_count": 52,
   "metadata": {
    "collapsed": true
   },
   "outputs": [],
   "source": [
    "# define our standard basis vectors e1 and e2\n",
    "e1 = np.array([1, 0])\n",
    "e2 = np.array([0, 1])"
   ]
  },
  {
   "cell_type": "code",
   "execution_count": 53,
   "metadata": {},
   "outputs": [
    {
     "name": "stdout",
     "output_type": "stream",
     "text": [
      "Magnitude of vector 1: 1.00\n",
      "Magnitude of vector 2: 1.00\n",
      "Angle: 90.0 degrees\n"
     ]
    }
   ],
   "source": [
    "# observe lengths and angle between e1 and e2\n",
    "mag1, mag2, theta = vecLenAngle(e1, e2, verbose=True)"
   ]
  },
  {
   "cell_type": "code",
   "execution_count": 54,
   "metadata": {},
   "outputs": [
    {
     "name": "stdout",
     "output_type": "stream",
     "text": [
      "Magnitude of vector 1: 1.00\n",
      "Magnitude of vector 2: 1.00\n",
      "Angle: 90.0 degrees\n"
     ]
    }
   ],
   "source": [
    "# observe lengths and angle between Vhe1 and Vhe2\n",
    "Vhe1 = np.matmul(Vh, e1)\n",
    "Vhe2 = np.matmul(Vh, e2)\n",
    "mag1, mag2, theta = vecLenAngle(Vhe1, Vhe2, verbose=True)"
   ]
  },
  {
   "cell_type": "code",
   "execution_count": 55,
   "metadata": {},
   "outputs": [
    {
     "name": "stdout",
     "output_type": "stream",
     "text": [
      "Magnitude of vector 1: 2.70\n",
      "Magnitude of vector 2: 0.99\n",
      "Angle: 150.1 degrees\n"
     ]
    }
   ],
   "source": [
    "# observe lengths and angle between SVhe1 and SVhe2\n",
    "SVhe1 = np.matmul(S, Vhe1)\n",
    "SVhe2 = np.matmul(S, Vhe2)\n",
    "mag1, mag2, theta = vecLenAngle(SVhe1, SVhe2, verbose=True)"
   ]
  },
  {
   "cell_type": "code",
   "execution_count": 56,
   "metadata": {},
   "outputs": [
    {
     "name": "stdout",
     "output_type": "stream",
     "text": [
      "Magnitude of vector 1: 2.70\n",
      "Magnitude of vector 2: 0.99\n",
      "Angle: 150.1 degrees\n"
     ]
    }
   ],
   "source": [
    "# observe lengths and angle between USVhe1 and USVhe2\n",
    "USVhe1 = np.matmul(U, SVhe1)\n",
    "USVhe2 = np.matmul(U, SVhe2)\n",
    "mag1, mag2, theta = vecLenAngle(USVhe1, USVhe2, verbose=True)"
   ]
  },
  {
   "cell_type": "markdown",
   "metadata": {},
   "source": [
    "The only time that the vector magnitudes and the angle between the two vectors changed was during the S transformation (SVhen). The other two transformations did not change the magnitudes or angle. This makes sense because the other two transformations involved orthogonal matrices, which perform either rotation or reflection."
   ]
  },
  {
   "cell_type": "code",
   "execution_count": 57,
   "metadata": {
    "collapsed": true
   },
   "outputs": [],
   "source": [
    "def vecs_to_mat(vecs):\n",
    "    \"\"\"\n",
    "    Helper function. Take a set of vectors and put them together into a \n",
    "    matrix, where each vector is one column of the matrix.\n",
    "    \"\"\"\n",
    "    return np.hstack([vec.reshape(-1, 1) for vec in vecs])"
   ]
  },
  {
   "cell_type": "code",
   "execution_count": 58,
   "metadata": {},
   "outputs": [
    {
     "data": {
      "image/png": "[encoded data removed]",
      "text/plain": [
       "<matplotlib.figure.Figure at 0x118560a20>"
      ]
     },
     "metadata": {},
     "output_type": "display_data"
    }
   ],
   "source": [
    "# first, plot e1 and e2\n",
    "plotVec2(vecs_to_mat([e1, e2]))"
   ]
  },
  {
   "cell_type": "code",
   "execution_count": 59,
   "metadata": {},
   "outputs": [
    {
     "data": {
      "image/png": "[encoded data removed]",
      "text/plain": [
       "<matplotlib.figure.Figure at 0x118708e48>"
      ]
     },
     "metadata": {},
     "output_type": "display_data"
    }
   ],
   "source": [
    "# next, plot Vhe1 and Vhe2. Notice that this is just a rotation\n",
    "plotVec2(vecs_to_mat([Vhe1, Vhe2]))"
   ]
  },
  {
   "cell_type": "code",
   "execution_count": 60,
   "metadata": {},
   "outputs": [
    {
     "data": {
      "image/png": "[encoded data removed]",
      "text/plain": [
       "<matplotlib.figure.Figure at 0x1186eeba8>"
      ]
     },
     "metadata": {},
     "output_type": "display_data"
    }
   ],
   "source": [
    "# next, plot SVhe1 and SVhe2. Here we actually change lengths and the angle.\n",
    "plotVec2(vecs_to_mat([SVhe1, SVhe2]))"
   ]
  },
  {
   "cell_type": "code",
   "execution_count": 61,
   "metadata": {},
   "outputs": [
    {
     "data": {
      "image/png": "[encoded data removed]",
      "text/plain": [
       "<matplotlib.figure.Figure at 0x117b4d2b0>"
      ]
     },
     "metadata": {},
     "output_type": "display_data"
    }
   ],
   "source": [
    "# next, plot USVhe1 and USVhe2. Notice that this is just a reflection/rotation.\n",
    "plotVec2(vecs_to_mat([USVhe1, USVhe2]))"
   ]
  },
  {
   "cell_type": "markdown",
   "metadata": {},
   "source": [
    "## part (d)"
   ]
  },
  {
   "cell_type": "code",
   "execution_count": 73,
   "metadata": {
    "collapsed": true
   },
   "outputs": [],
   "source": [
    "# create theta vector\n",
    "thetas = np.array([2*np.pi*n/64 for n in range(65)])\n",
    "# generate the matrix P\n",
    "P = np.hstack([[[np.cos(theta)], [np.sin(theta)]] for theta in thetas])"
   ]
  },
  {
   "cell_type": "code",
   "execution_count": 82,
   "metadata": {
    "collapsed": true
   },
   "outputs": [],
   "source": [
    "def plot_points(P, boundary=3):\n",
    "    \"\"\"Function to plot the points w/ a single blue curve through them & a red star.\"\"\"\n",
    "    # First, plot the axes\n",
    "    plt.figure(figsize=(10, 10))\n",
    "    plt.plot([-1, 1], [0, 0], c='black')\n",
    "    plt.plot([0, 0], [-1, 1], c='black')\n",
    "    # Now, plot the points & circle\n",
    "    plt.scatter(P[0], P[1], s=20, c='b')\n",
    "    plt.plot(P[0], P[1], c='b')\n",
    "    # Now the red star\n",
    "    plt.scatter(P[0,0], P[1,0], s=400, c='r', marker='*')\n",
    "    plt.ylim([-boundary, boundary])\n",
    "    plt.xlim([-boundary, boundary])\n",
    "    plt.show()"
   ]
  },
  {
   "cell_type": "code",
   "execution_count": 83,
   "metadata": {},
   "outputs": [
    {
     "data": {
      "image/png": "[encoded data removed]",
      "text/plain": [
       "<matplotlib.figure.Figure at 0x1178c1940>"
      ]
     },
     "metadata": {},
     "output_type": "display_data"
    }
   ],
   "source": [
    "# plot initial points\n",
    "plot_points(P, boundary=3)"
   ]
  },
  {
   "cell_type": "code",
   "execution_count": 84,
   "metadata": {},
   "outputs": [
    {
     "data": {
      "image/png": "[encoded data removed]",
      "text/plain": [
       "<matplotlib.figure.Figure at 0x11797e908>"
      ]
     },
     "metadata": {},
     "output_type": "display_data"
    }
   ],
   "source": [
    "# this is a slight rotation\n",
    "VhP = np.matmul(Vh, P)\n",
    "plot_points(VhP, boundary=3)"
   ]
  },
  {
   "cell_type": "markdown",
   "metadata": {},
   "source": [
    "Here we see a rotation of the points to the left. Recall that an orthogonal \n",
    "matrix transformation is a simple rotation operation."
   ]
  },
  {
   "cell_type": "code",
   "execution_count": 85,
   "metadata": {},
   "outputs": [
    {
     "data": {
      "image/png": "[encoded data removed]",
      "text/plain": [
       "<matplotlib.figure.Figure at 0x117b240b8>"
      ]
     },
     "metadata": {},
     "output_type": "display_data"
    }
   ],
   "source": [
    "# Now vectors get scaled (different scale for each dimension)\n",
    "SVhP = np.matmul(S, VhP)\n",
    "plot_points(SVhP, boundary=3)"
   ]
  },
  {
   "cell_type": "markdown",
   "metadata": {},
   "source": [
    "Here we see a scaling of the points. The x and y values of each point are scaled \n",
    "separately. This is what we expect from the singular value matrix transformation."
   ]
  },
  {
   "cell_type": "code",
   "execution_count": 86,
   "metadata": {},
   "outputs": [
    {
     "data": {
      "image/png": "[encoded data removed]",
      "text/plain": [
       "<matplotlib.figure.Figure at 0x117cd7c88>"
      ]
     },
     "metadata": {},
     "output_type": "display_data"
    }
   ],
   "source": [
    "# now vectors get rotated\n",
    "USVhP = np.matmul(U, SVhP)\n",
    "plot_points(USVhP, boundary=3)"
   ]
  },
  {
   "cell_type": "markdown",
   "metadata": {},
   "source": [
    "Here we see another simple reflection/rotation of the points, appropriate of an\n",
    "orthogonal matrix transformation."
   ]
  },
  {
   "cell_type": "markdown",
   "metadata": {},
   "source": [
    "# Problem #3"
   ]
  },
  {
   "cell_type": "markdown",
   "metadata": {},
   "source": [
    "## Part (a)"
   ]
  },
  {
   "cell_type": "markdown",
   "metadata": {},
   "source": [
    "Given this weight vector 'w', the unit vector 'u' that would elicit the largest response is the one for which the the dot product u•w has a maximum value. Recalling from class, the dot product achieves a maximum when the two vectors in consideration are parallel, i.e., have the same direction. So we can find the optimal 'u' by choosing the unit vector in the direction of 'w', which is done by taking w and normalizing it:"
   ]
  },
  {
   "cell_type": "code",
   "execution_count": 3,
   "metadata": {},
   "outputs": [
    {
     "name": "stdout",
     "output_type": "stream",
     "text": [
      "optimal unit vector:  [ 0.1796053   0.53881591  0.71842121  0.3592106   0.1796053 ]\n"
     ]
    }
   ],
   "source": [
    "# first write the weight vector w\n",
    "w = np.asarray([1, 3, 4, 2, 1])\n",
    "# now compute the unit vector that points in the direction of w\n",
    "u = w / np.linalg.norm(w)\n",
    "print('optimal unit vector: ', u)"
   ]
  },
  {
   "cell_type": "markdown",
   "metadata": {},
   "source": [
    "## Part (b)"
   ]
  },
  {
   "cell_type": "code",
   "execution_count": 87,
   "metadata": {
    "collapsed": true
   },
   "outputs": [],
   "source": [
    "# here is a non-unit vector that will work\n",
    "v = np.asarray([-1, 0, 1, -1, -1])\n",
    "# it will still work if we normalize it to become a unit vector\n",
    "v_hat = v / np.linalg.norm(v)\n",
    "# let's verify it\n",
    "w = np.asarray([1, 3, 4, 2, 1])\n",
    "assert(np.dot(v_hat, w) == 0)"
   ]
  },
  {
   "cell_type": "code",
   "execution_count": 88,
   "metadata": {},
   "outputs": [
    {
     "data": {
      "text/plain": [
       "array([-0.5,  0. ,  0.5, -0.5, -0.5])"
      ]
     },
     "execution_count": 88,
     "metadata": {},
     "output_type": "execute_result"
    }
   ],
   "source": [
    "v_hat"
   ]
  },
  {
   "cell_type": "markdown",
   "metadata": {},
   "source": [
    "This is not a physically realizable stimulus, because it involves negative values. You cannot have a negative light intensity value. The only physicially realizable stimulus that could elicit a zero response in this neuron is the zero vector. The neuron would have to have some negative weight dimensions for any other stimulus to work."
   ]
  },
  {
   "cell_type": "markdown",
   "metadata": {},
   "source": [
    "# Problem #4"
   ]
  },
  {
   "cell_type": "code",
   "execution_count": 89,
   "metadata": {
    "collapsed": true
   },
   "outputs": [],
   "source": [
    "def gramSchmidt(N):\n",
    "    # Let's keep a list of our vectors\n",
    "    vecs = []\n",
    "    # We're going to create N vectors. Each will follow the same set of operations.\n",
    "    # Let's loop through.\n",
    "    for i in range(N):\n",
    "        # Generate random vector\n",
    "        v = np.random.normal(size=(N,))\n",
    "        # Go through all previously created basis vectors and subtract off the projection\n",
    "        # of our current\n",
    "        for v_p in vecs:\n",
    "            v = v - np.dot(v, v_p)*v_p\n",
    "        # normalize it so that it has length 1\n",
    "        v = v / np.linalg.norm(v)\n",
    "        # add it to our list\n",
    "        vecs.append(v)\n",
    "        \n",
    "    return np.hstack([v.reshape(-1,1) for v in vecs])"
   ]
  },
  {
   "cell_type": "code",
   "execution_count": 90,
   "metadata": {
    "collapsed": true
   },
   "outputs": [],
   "source": [
    "# Lets test with N = 3\n",
    "M_orth = gramSchmidt(3)"
   ]
  },
  {
   "cell_type": "code",
   "execution_count": 91,
   "metadata": {},
   "outputs": [
    {
     "data": {
      "image/png": "[encoded data removed]",
      "text/plain": [
       "<matplotlib.figure.Figure at 0x117b1c4e0>"
      ]
     },
     "metadata": {},
     "output_type": "display_data"
    }
   ],
   "source": [
    "# Now let's plot our 3 basis vectors in a 3d plot\n",
    "from mpl_toolkits.mplot3d import Axes3D\n",
    "\n",
    "fig = plt.figure(figsize=(12, 10))\n",
    "ax = fig.add_subplot(111, projection='3d')\n",
    "# plot our 3 basis vectors\n",
    "for i in range(3):\n",
    "    x, y, z = M_orth[:, i]\n",
    "    ax.plot([0, x], [0, y], [0, z])\n",
    "ax.autoscale_view(scalex=True, scaley=True, scalez=True)\n",
    "plt.show()"
   ]
  },
  {
   "cell_type": "markdown",
   "metadata": {},
   "source": [
    "As expected, we see 3 unit vectors that are all perpendicular to one another."
   ]
  },
  {
   "cell_type": "code",
   "execution_count": 92,
   "metadata": {
    "collapsed": true
   },
   "outputs": [],
   "source": [
    "# Now let's generate an orthogonal matrix with N > 3 and verify it\n",
    "M_orth4 = gramSchmidt(4)"
   ]
  },
  {
   "cell_type": "code",
   "execution_count": 93,
   "metadata": {
    "collapsed": true
   },
   "outputs": [],
   "source": [
    "def verify_orthogonal(matrix):\n",
    "    \"\"\"Use this function to verify that the matrix is orthogonal\"\"\"\n",
    "    # it should be square\n",
    "    assert matrix.shape[0] == matrix.shape[1]\n",
    "    # loop through column/row indices...\n",
    "    for i in range(matrix.shape[0]):\n",
    "        col = matrix[:, i]\n",
    "        row = matrix[i]\n",
    "        # make sure the row and column vectors are all unit length\n",
    "        # (allow for small precision errors)\n",
    "        assert np.abs(np.linalg.norm(col) - 1.) < 1e-5\n",
    "        assert np.abs(np.linalg.norm(row) - 1.) < 1e-5\n",
    "        # go throw other rows and cols and make sure we are orthogonal to them all\n",
    "        other_inds = list(range(matrix.shape[0]))\n",
    "        other_inds.remove(i)\n",
    "        for j in other_inds:\n",
    "            # dot product test of orthogonality; dot product should be zero\n",
    "            # (allow for small precision errors)\n",
    "            assert np.abs(np.dot(col, matrix[:, j])) < 1e-5\n",
    "            assert np.abs(np.dot(row, matrix[j])) < 1e-5\n",
    "    print('Verified: matrix is orthogonal.')"
   ]
  },
  {
   "cell_type": "code",
   "execution_count": 94,
   "metadata": {},
   "outputs": [
    {
     "name": "stdout",
     "output_type": "stream",
     "text": [
      "Verified: matrix is orthogonal.\n"
     ]
    }
   ],
   "source": [
    "# This passes - great success!\n",
    "verify_orthogonal(M_orth4)"
   ]
  },
  {
   "cell_type": "markdown",
   "metadata": {},
   "source": [
    "# Problem #5"
   ]
  },
  {
   "cell_type": "code",
   "execution_count": 95,
   "metadata": {
    "collapsed": true
   },
   "outputs": [],
   "source": [
    "# load the data file\n",
    "import scipy.io as sio\n",
    "data = sio.loadmat('./mtxExamples.mat')"
   ]
  },
  {
   "cell_type": "code",
   "execution_count": 96,
   "metadata": {},
   "outputs": [
    {
     "data": {
      "text/plain": [
       "{'__globals__': [],\n",
       " '__header__': b'MATLAB 5.0 MAT-file, Platform: MACI64, Created on: Mon Sep 11 10:04:11 2017',\n",
       " '__version__': '1.0',\n",
       " 'mtx1': array([[-0.58270902, -1.29931593, -0.11040614],\n",
       "        [-1.67174677, -3.54875482, -5.08449222]]),\n",
       " 'mtx2': array([[-2.10159657,  1.09455262,  0.54227098],\n",
       "        [ 0.97597203, -0.50830533, -0.25182821],\n",
       "        [-3.26218446,  1.6990095 ,  0.84173527]]),\n",
       " 'mtx3': array([[  2.41396453,   2.81563905],\n",
       "        [ -2.23106477, -13.0602928 ],\n",
       "        [ -1.17314897, -10.30842011]]),\n",
       " 'mtx4': array([[-0.83115196,  1.92170834,  0.47634232],\n",
       "        [ 0.01513876, -0.03500235, -0.00867619]])}"
      ]
     },
     "execution_count": 96,
     "metadata": {},
     "output_type": "execute_result"
    }
   ],
   "source": [
    "# inspect it\n",
    "data"
   ]
  },
  {
   "cell_type": "markdown",
   "metadata": {},
   "source": [
    "## mtx1"
   ]
  },
  {
   "cell_type": "code",
   "execution_count": 97,
   "metadata": {},
   "outputs": [
    {
     "name": "stdout",
     "output_type": "stream",
     "text": [
      "U: \n",
      " [[-0.15135516 -0.98847945]\n",
      " [-0.98847945  0.15135516]]\n",
      "S: \n",
      " [[ 6.49473627  0.          0.        ]\n",
      " [ 0.          1.04824667  0.        ]]\n",
      "Vh: \n",
      " [[ 0.26801448  0.5703895   0.77641745]\n",
      " [ 0.30810342  0.71283291 -0.63003296]\n",
      " [-0.91282009  0.40807483  0.01531058]]\n"
     ]
    }
   ],
   "source": [
    "# using our function 'svd' from problem #2, decompose mtx1\n",
    "U1, S1, Vh1 = svd(data['mtx1'])\n",
    "# observe the contents\n",
    "print('U: \\n', U1)\n",
    "print('S: \\n', S1)\n",
    "print('Vh: \\n', Vh1)"
   ]
  },
  {
   "cell_type": "markdown",
   "metadata": {},
   "source": [
    "### (a)\n",
    "For this matrix, the two singular values are nonzero. However, we have one less singular value than we have row vectors in Vh. Thus, the information projected onto the 3rd dimension of Vh is thrown away. So the nullspace is the space spanned by the row vector v3."
   ]
  },
  {
   "cell_type": "code",
   "execution_count": 98,
   "metadata": {
    "collapsed": true
   },
   "outputs": [],
   "source": [
    "def generate_null_mtx1():\n",
    "    \"\"\"Function to generate a vector from the nullspace of mtx1.\"\"\"\n",
    "    # The space spanned by a single vector is simply the space of all\n",
    "    # vectors parallel to that vector, i.e. all vectors that are a scalar\n",
    "    # multiple.\n",
    "    v3 = Vh1[2]\n",
    "    # generate a random scale\n",
    "    a = np.random.randn()\n",
    "    \n",
    "    return a*v3"
   ]
  },
  {
   "cell_type": "code",
   "execution_count": 99,
   "metadata": {},
   "outputs": [
    {
     "name": "stdout",
     "output_type": "stream",
     "text": [
      "result of projection:  [  2.27459523e-18  -9.20196936e-16]\n"
     ]
    }
   ],
   "source": [
    "# Generate a random example vector from nullspace\n",
    "vec = generate_null_mtx1()\n",
    "# Test that our matrix maps it to zero (allow for small precision error)\n",
    "print('result of projection: ', np.matmul(data['mtx1'], vec))"
   ]
  },
  {
   "cell_type": "markdown",
   "metadata": {},
   "source": [
    "So we see that this gets mapped to the zero vector (with small precision error)"
   ]
  },
  {
   "cell_type": "markdown",
   "metadata": {},
   "source": [
    "### (b)"
   ]
  },
  {
   "cell_type": "markdown",
   "metadata": {},
   "source": [
    "We have two non-zero singular values and two column vectors in our U matrix. Therefore the rangespace of this\n",
    "matrix transformation is the space spanned by the two column vectors in U."
   ]
  },
  {
   "cell_type": "code",
   "execution_count": 101,
   "metadata": {
    "collapsed": true
   },
   "outputs": [],
   "source": [
    "def generate_range_mtx1():\n",
    "    \"\"\"Function to generate a vector from the rangespace of mtx1.\"\"\"\n",
    "    # first write the two column vectors of U\n",
    "    u1 = U1[:, 0]\n",
    "    u2 = U1[:, 1]\n",
    "    # The space spanned by these vectors is the space of all\n",
    "    # vectors a*u1 + b*u2, where 'a' and 'b' are scalars. So\n",
    "    # we can generate a random vector from this space by generating\n",
    "    # two random scalars and combining.\n",
    "    a, b = np.random.normal(size=(2,))\n",
    "    \n",
    "    return a*u1 + b*u2"
   ]
  },
  {
   "cell_type": "code",
   "execution_count": 102,
   "metadata": {},
   "outputs": [
    {
     "name": "stdout",
     "output_type": "stream",
     "text": [
      "y:  [-1.75450564 -1.67670511]\n"
     ]
    }
   ],
   "source": [
    "# Here we will generate a vector from the rangespace of mtx1\n",
    "y = generate_range_mtx1()\n",
    "print('y: ', y)"
   ]
  },
  {
   "cell_type": "code",
   "execution_count": 103,
   "metadata": {},
   "outputs": [
    {
     "name": "stdout",
     "output_type": "stream",
     "text": [
      "x:  [ 0.51450972  1.17566482 -0.65996188]\n",
      "Mx:  [-1.75450564 -1.67670511]\n"
     ]
    }
   ],
   "source": [
    "# So we have M and we have y. Let's solve for x in Mx = y\n",
    "# using the least squares approach:\n",
    "x, _, _, _ = np.linalg.lstsq(data['mtx1'], y)\n",
    "print('x: ', x)\n",
    "print('Mx: ', np.matmul(data['mtx1'], x))"
   ]
  },
  {
   "cell_type": "markdown",
   "metadata": {},
   "source": [
    "So we see that there exists a vector x such that Mx = y."
   ]
  },
  {
   "cell_type": "markdown",
   "metadata": {},
   "source": [
    "## mtx2"
   ]
  },
  {
   "cell_type": "code",
   "execution_count": 104,
   "metadata": {},
   "outputs": [
    {
     "name": "stdout",
     "output_type": "stream",
     "text": [
      "U: \n",
      " [[-0.52521737 -0.84937023  0.05212411]\n",
      " [ 0.24390859 -0.09157494  0.96546498]\n",
      " [-0.81526396  0.51979249  0.25526545]]\n",
      "S: \n",
      " [[  4.62818793e+00   0.00000000e+00   0.00000000e+00]\n",
      " [  0.00000000e+00   5.60675972e-16   0.00000000e+00]\n",
      " [  0.00000000e+00   0.00000000e+00   3.19837016e-18]]\n",
      "Vh: \n",
      " [[ 0.86456826 -0.45028407 -0.22308291]\n",
      " [ 0.50008768  0.81454694  0.29398231]\n",
      " [-0.04933595  0.36572879 -0.92941294]]\n"
     ]
    }
   ],
   "source": [
    "# decompose mtx2\n",
    "U2, S2, Vh2 = svd(data['mtx2'])\n",
    "# observe the contents\n",
    "print('U: \\n', U2)\n",
    "print('S: \\n', S2)\n",
    "print('Vh: \\n', Vh2)"
   ]
  },
  {
   "cell_type": "markdown",
   "metadata": {},
   "source": [
    "### (a)"
   ]
  },
  {
   "cell_type": "markdown",
   "metadata": {},
   "source": [
    "For this matrix, the second and third singular values are zero (with small precision error). Thus, the information projected onto the 2nd and 3rd dimensions of Vh is thrown away. So the nullspace is the space spanned by the 2nd and 3rd row vectors of Vh."
   ]
  },
  {
   "cell_type": "code",
   "execution_count": 105,
   "metadata": {
    "collapsed": true
   },
   "outputs": [],
   "source": [
    "def generate_null_mtx2():\n",
    "    \"\"\"Function to generate a vector from the nullspace of mtx2.\"\"\"\n",
    "    # first write the 2nd and 3rd row vectors of  V\n",
    "    v2 = Vh2[1]\n",
    "    v3 = Vh2[2]\n",
    "    # Now, following earlier logic, generate a random linear\n",
    "    # combination a*v2 + b*v3\n",
    "    a, b = np.random.normal(size=(2,))\n",
    "    \n",
    "    return a*v2 + b*v3"
   ]
  },
  {
   "cell_type": "code",
   "execution_count": 106,
   "metadata": {},
   "outputs": [
    {
     "name": "stdout",
     "output_type": "stream",
     "text": [
      "result of projection:  [  3.84823000e-16  -1.87645734e-16   6.19762482e-16]\n"
     ]
    }
   ],
   "source": [
    "# Generate a random example vector from nullspace\n",
    "vec = generate_null_mtx2()\n",
    "# Test that our matrix maps it to zero (allow for small precision error)\n",
    "print('result of projection: ', np.matmul(data['mtx2'], vec))"
   ]
  },
  {
   "cell_type": "markdown",
   "metadata": {},
   "source": [
    "So we see that this gets mapped to the zero vector (with small precision error)"
   ]
  },
  {
   "cell_type": "markdown",
   "metadata": {},
   "source": [
    "### (b)"
   ]
  },
  {
   "cell_type": "markdown",
   "metadata": {},
   "source": [
    "We have one non-zero singular value in our S matrix. Therefore the rangespace of this\n",
    "matrix transformation is the space spanned by the first column vector in U."
   ]
  },
  {
   "cell_type": "code",
   "execution_count": 107,
   "metadata": {
    "collapsed": true
   },
   "outputs": [],
   "source": [
    "def generate_range_mtx2():\n",
    "    \"\"\"Function to generate a vector from the rangespace of mtx2.\"\"\"\n",
    "    # first write the first column vector of U\n",
    "    u1 = U2[:, 0]\n",
    "    # Now, following earlier logic:\n",
    "    a = np.random.randn()\n",
    "    \n",
    "    return a*u1"
   ]
  },
  {
   "cell_type": "code",
   "execution_count": 108,
   "metadata": {},
   "outputs": [
    {
     "name": "stdout",
     "output_type": "stream",
     "text": [
      "y:  [ 0.45233069 -0.21006034  0.70212626]\n"
     ]
    }
   ],
   "source": [
    "# Here we will generate a vector from the rangespace of mtx2\n",
    "y = generate_range_mtx2()\n",
    "print('y: ', y)"
   ]
  },
  {
   "cell_type": "code",
   "execution_count": 109,
   "metadata": {},
   "outputs": [
    {
     "name": "stdout",
     "output_type": "stream",
     "text": [
      "x:  [-0.04589052  0.27108783  0.10911046]\n",
      "Mx:  [ 0.45233069 -0.21006034  0.70212626]\n"
     ]
    }
   ],
   "source": [
    "# So we have M and we have y. Let's solve for x in Mx = y\n",
    "# using the least squares approach:\n",
    "x, _, _, _ = np.linalg.lstsq(data['mtx2'], y)\n",
    "print('x: ', x)\n",
    "print('Mx: ', np.matmul(data['mtx2'], x))"
   ]
  },
  {
   "cell_type": "markdown",
   "metadata": {},
   "source": [
    "So we see that there exists a vector x such that Mx = y."
   ]
  },
  {
   "cell_type": "markdown",
   "metadata": {},
   "source": [
    "## mtx3"
   ]
  },
  {
   "cell_type": "code",
   "execution_count": 110,
   "metadata": {},
   "outputs": [
    {
     "name": "stdout",
     "output_type": "stream",
     "text": [
      "U: \n",
      " [[ 0.18592009  0.95640618 -0.2252131 ]\n",
      " [-0.77407287  0.00139524 -0.63309497]\n",
      " [-0.60518171  0.29203643  0.74058748]]\n",
      "S: \n",
      " [[ 17.11658798   0.        ]\n",
      " [  0.           1.99152349]\n",
      " [  0.           0.        ]]\n",
      "Vh: \n",
      " [[ 0.16859549  0.98568533]\n",
      " [ 0.98568533 -0.16859549]]\n"
     ]
    }
   ],
   "source": [
    "# decompose mtx3\n",
    "U3, S3, Vh3 = svd(data['mtx3'])\n",
    "# observe the contents\n",
    "print('U: \\n', U3)\n",
    "print('S: \\n', S3)\n",
    "print('Vh: \\n', Vh3)"
   ]
  },
  {
   "cell_type": "markdown",
   "metadata": {},
   "source": [
    "### (a)"
   ]
  },
  {
   "cell_type": "markdown",
   "metadata": {},
   "source": [
    "For this matrix, the two singular values are non-zero, and we have two row vectors in Vh. Thus, the nullspace for this matrix is empty."
   ]
  },
  {
   "cell_type": "markdown",
   "metadata": {},
   "source": [
    "### (b)"
   ]
  },
  {
   "cell_type": "markdown",
   "metadata": {},
   "source": [
    "We have two non-zero singular values (s1 and s2). Therefore, the two corresponding column vectors of U span the range space of this matrix. "
   ]
  },
  {
   "cell_type": "code",
   "execution_count": 111,
   "metadata": {
    "collapsed": true
   },
   "outputs": [],
   "source": [
    "def generate_range_mtx3():\n",
    "    \"\"\"Function to generate a vector from the rangespace of mtx3.\"\"\"\n",
    "    # first write the two column vectors of U\n",
    "    u1 = U3[:, 0]\n",
    "    u2 = U3[:, 1]\n",
    "    # As we've done before...\n",
    "    a, b = np.random.normal(size=(2,))\n",
    "    \n",
    "    return a*u1 + b*u2"
   ]
  },
  {
   "cell_type": "code",
   "execution_count": 112,
   "metadata": {},
   "outputs": [
    {
     "name": "stdout",
     "output_type": "stream",
     "text": [
      "y:  [ 0.09879937 -1.47890339 -1.23420313]\n"
     ]
    }
   ],
   "source": [
    "# Here we will generate a vector from the rangespace of mtx3\n",
    "y = generate_range_mtx3()\n",
    "print('y: ', y)"
   ]
  },
  {
   "cell_type": "code",
   "execution_count": 113,
   "metadata": {},
   "outputs": [
    {
     "name": "stdout",
     "output_type": "stream",
     "text": [
      "x:  [-0.11383187  0.1326823 ]\n",
      "Mx:  [ 0.09879937 -1.47890339 -1.23420313]\n"
     ]
    }
   ],
   "source": [
    "# So we have M and we have y. Let's solve for x in Mx = y\n",
    "# using the least squares approach:\n",
    "x, _, _, _ = np.linalg.lstsq(data['mtx3'], y)\n",
    "print('x: ', x)\n",
    "print('Mx: ', np.matmul(data['mtx3'], x))"
   ]
  },
  {
   "cell_type": "markdown",
   "metadata": {},
   "source": [
    "So we see that there exists a vector x such that Mx = y."
   ]
  },
  {
   "cell_type": "markdown",
   "metadata": {},
   "source": [
    "## mtx4"
   ]
  },
  {
   "cell_type": "code",
   "execution_count": 114,
   "metadata": {},
   "outputs": [
    {
     "name": "stdout",
     "output_type": "stream",
     "text": [
      "U: \n",
      " [[-0.99983416  0.01821117]\n",
      " [ 0.01821117  0.99983416]]\n",
      "S: \n",
      " [[  2.14760522e+00   0.00000000e+00   0.00000000e+00]\n",
      " [  0.00000000e+00   1.55404621e-18   0.00000000e+00]]\n",
      "Vh: \n",
      " [[ 0.38707758 -0.89496294 -0.22183841]\n",
      " [ 0.91617412  0.34620254  0.20191279]\n",
      " [-0.10390344 -0.28139852  0.95394913]]\n"
     ]
    }
   ],
   "source": [
    "# decompose mtx4\n",
    "U4, S4, Vh4 = svd(data['mtx4'])\n",
    "# observe the contents\n",
    "print('U: \\n', U4)\n",
    "print('S: \\n', S4)\n",
    "print('Vh: \\n', Vh4)"
   ]
  },
  {
   "cell_type": "markdown",
   "metadata": {},
   "source": [
    "### (a)"
   ]
  },
  {
   "cell_type": "markdown",
   "metadata": {},
   "source": [
    "For this matrix we have only one non-zero singular value, but 3 row vectors in Vh. Thus the nullspace is the space spanned by the 2nd and 3rd row vectors in Vh"
   ]
  },
  {
   "cell_type": "code",
   "execution_count": 115,
   "metadata": {
    "collapsed": true
   },
   "outputs": [],
   "source": [
    "def generate_null_mtx4():\n",
    "    \"\"\"Function to generate a vector from the nullspace of mtx4.\"\"\"\n",
    "    # first write the 2nd and 3rd row vectors of  V\n",
    "    v2 = Vh4[1] \n",
    "    v3 = Vh4[2]\n",
    "    # Now, following earlier logic, generate a random linear\n",
    "    # combination a*v2 + b*v3\n",
    "    a, b = np.random.normal(size=(2,))\n",
    "    \n",
    "    return a*v2 + b*v3"
   ]
  },
  {
   "cell_type": "code",
   "execution_count": 116,
   "metadata": {},
   "outputs": [
    {
     "name": "stdout",
     "output_type": "stream",
     "text": [
      "result of projection:  [ -1.00549165e-16   3.61159234e-18]\n"
     ]
    }
   ],
   "source": [
    "# Generate a random example vector from nullspace\n",
    "vec = generate_null_mtx4()\n",
    "# Test that our matrix maps it to zero (allow for small precision error)\n",
    "print('result of projection: ', np.matmul(data['mtx4'], vec))"
   ]
  },
  {
   "cell_type": "markdown",
   "metadata": {},
   "source": [
    "So we see that this gets mapped to the zero vector (with small precision error)"
   ]
  },
  {
   "cell_type": "markdown",
   "metadata": {},
   "source": [
    "### (b)"
   ]
  },
  {
   "cell_type": "markdown",
   "metadata": {},
   "source": [
    "We have one non-zero singular value, so the rangespace is the space spanned by the first column vector in U"
   ]
  },
  {
   "cell_type": "code",
   "execution_count": 117,
   "metadata": {
    "collapsed": true
   },
   "outputs": [],
   "source": [
    "def generate_range_mtx4():\n",
    "    \"\"\"Function to generate a vector from the rangespace of mtx4.\"\"\"\n",
    "    # first write the first column vector of U\n",
    "    u1 = U4[:, 0]\n",
    "    # Now, following earlier logic:\n",
    "    a = np.random.randn()\n",
    "    \n",
    "    return a*u1"
   ]
  },
  {
   "cell_type": "code",
   "execution_count": 118,
   "metadata": {},
   "outputs": [
    {
     "name": "stdout",
     "output_type": "stream",
     "text": [
      "y:  [ 0.15498439 -0.00282291]\n"
     ]
    }
   ],
   "source": [
    "# Here we will generate a vector from the rangespace of mtx4\n",
    "y = generate_range_mtx4()\n",
    "print('y: ', y)"
   ]
  },
  {
   "cell_type": "code",
   "execution_count": 119,
   "metadata": {},
   "outputs": [
    {
     "name": "stdout",
     "output_type": "stream",
     "text": [
      "x:  [-0.02793853  0.06459674  0.01601188]\n",
      "Mx:  [ 0.15498439 -0.00282291]\n"
     ]
    }
   ],
   "source": [
    "# So we have M and we have y. Let's solve for x in Mx = y\n",
    "# using the least squares approach:\n",
    "x, _, _, _ = np.linalg.lstsq(data['mtx4'], y)\n",
    "print('x: ', x)\n",
    "print('Mx: ', np.matmul(data['mtx4'], x))"
   ]
  },
  {
   "cell_type": "markdown",
   "metadata": {},
   "source": [
    "So we see that there exists a vector x such that Mx = y."
   ]
  }
 ],
 "metadata": {
  "kernelspec": {
   "display_name": "Python 3",
   "language": "python",
   "name": "python3"
  },
  "language_info": {
   "codemirror_mode": {
    "name": "ipython",
    "version": 3
   },
   "file_extension": ".py",
   "mimetype": "text/x-python",
   "name": "python",
   "nbconvert_exporter": "python",
   "pygments_lexer": "ipython3",
   "version": "3.6.1"
  }
 },
 "nbformat": 4,
 "nbformat_minor": 2
}
