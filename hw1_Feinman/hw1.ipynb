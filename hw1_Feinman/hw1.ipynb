{
 "cells": [
  {
   "cell_type": "markdown",
   "metadata": {},
   "source": [
    "# Problem #1"
   ]
  },
  {
   "cell_type": "markdown",
   "metadata": {},
   "source": [
    "## System 1"
   ]
  },
  {
   "cell_type": "code",
   "execution_count": 2,
   "metadata": {
    "collapsed": true
   },
   "outputs": [],
   "source": [
    "import numpy as np"
   ]
  },
  {
   "cell_type": "code",
   "execution_count": 3,
   "metadata": {},
   "outputs": [],
   "source": [
    "# Let's call the system S(). We have a vector 'a' and a vector 'b' defined as:\n",
    "a = np.array([2, 4])\n",
    "b = np.array([-1, -2])"
   ]
  },
  {
   "cell_type": "code",
   "execution_count": 5,
   "metadata": {
    "collapsed": true
   },
   "outputs": [],
   "source": [
    "# Note that a = -2b\n",
    "assert np.array_equal(a, -2*b)"
   ]
  },
  {
   "cell_type": "code",
   "execution_count": 6,
   "metadata": {
    "collapsed": true
   },
   "outputs": [],
   "source": [
    "# We also know the outputs of the system S(a) and S(b)\n",
    "S_a = np.array([-6, -6])\n",
    "S_b = np.array([3, 3])"
   ]
  },
  {
   "cell_type": "code",
   "execution_count": 7,
   "metadata": {
    "collapsed": true
   },
   "outputs": [],
   "source": [
    "# Since a = -2b, then for the system to be linear, we must have that\n",
    "# S(a) = -2S(b) by the principle of superposition. Let's check:\n",
    "assert np.array_equal(S_a, -2*S_b)"
   ]
  },
  {
   "cell_type": "markdown",
   "metadata": {},
   "source": [
    "Now let's find a matrix that could be associated with this system. \n",
    "We know by dimension rules that this must be a 2x2 matrix. Let's \n",
    "call it M:\n",
    "             \n",
    "            M =   [m_00, m_01]\n",
    "                  [m_10, m_11]\n",
    "                  \n",
    "We know that Ma = [-6, -6]. So we have 2m_00 + 4m_01 = -6. We also know\n",
    "that Mb = [3, 3], but this doesn't add any information because b is a\n",
    "linear combination of a. So one possible solution is m_00 = -1 and \n",
    "m_01 = -1, but this is not unique because we have 2 variables and 1 \n",
    "equality. We also have 2m_10 + 4m_11 = -6, which leads us to possible\n",
    "values m_10 = -1, m_11 = -1. But these values are again not unique,\n",
    "for the same reasoning. So we have\n",
    "            \n",
    "            M = [-1, -1]\n",
    "                [-1, -1]\n",
    "                \n",
    "as a possible matrix for this system, but it is not unique (explained\n",
    "above)."
   ]
  },
  {
   "cell_type": "code",
   "execution_count": 8,
   "metadata": {
    "collapsed": true
   },
   "outputs": [],
   "source": [
    "# Check that M works\n",
    "M = np.array([[-1, -1], [-1, -1]])\n",
    "assert np.array_equal(np.matmul(M, a), S_a)\n",
    "assert np.array_equal(np.matmul(M, b), S_b)"
   ]
  },
  {
   "cell_type": "markdown",
   "metadata": {},
   "source": [
    "## System 2"
   ]
  },
  {
   "cell_type": "code",
   "execution_count": 10,
   "metadata": {
    "collapsed": true
   },
   "outputs": [],
   "source": [
    "# Again we have 'a' and 'b'\n",
    "a = 1\n",
    "b = 2"
   ]
  },
  {
   "cell_type": "code",
   "execution_count": 11,
   "metadata": {
    "collapsed": true
   },
   "outputs": [],
   "source": [
    "# Note that b = 2a\n",
    "assert b == 2*a"
   ]
  },
  {
   "cell_type": "code",
   "execution_count": 12,
   "metadata": {},
   "outputs": [
    {
     "ename": "AssertionError",
     "evalue": "",
     "output_type": "error",
     "traceback": [
      "\u001b[0;31m---------------------------------------------------------------------------\u001b[0m",
      "\u001b[0;31mAssertionError\u001b[0m                            Traceback (most recent call last)",
      "\u001b[0;32m<ipython-input-12-5aeaaa73d9e4>\u001b[0m in \u001b[0;36m<module>\u001b[0;34m()\u001b[0m\n\u001b[1;32m      2\u001b[0m \u001b[0mS_a\u001b[0m \u001b[0;34m=\u001b[0m \u001b[0mnp\u001b[0m\u001b[0;34m.\u001b[0m\u001b[0marray\u001b[0m\u001b[0;34m(\u001b[0m\u001b[0;34m[\u001b[0m\u001b[0;36m1\u001b[0m\u001b[0;34m,\u001b[0m \u001b[0;36m4\u001b[0m\u001b[0;34m]\u001b[0m\u001b[0;34m)\u001b[0m\u001b[0;34m\u001b[0m\u001b[0m\n\u001b[1;32m      3\u001b[0m \u001b[0mS_b\u001b[0m \u001b[0;34m=\u001b[0m \u001b[0mnp\u001b[0m\u001b[0;34m.\u001b[0m\u001b[0marray\u001b[0m\u001b[0;34m(\u001b[0m\u001b[0;34m[\u001b[0m\u001b[0;36m2\u001b[0m\u001b[0;34m,\u001b[0m \u001b[0;36m6\u001b[0m\u001b[0;34m]\u001b[0m\u001b[0;34m)\u001b[0m\u001b[0;34m\u001b[0m\u001b[0m\n\u001b[0;32m----> 4\u001b[0;31m \u001b[0;32massert\u001b[0m \u001b[0mnp\u001b[0m\u001b[0;34m.\u001b[0m\u001b[0marray_equal\u001b[0m\u001b[0;34m(\u001b[0m\u001b[0mS_b\u001b[0m\u001b[0;34m,\u001b[0m \u001b[0;36m2\u001b[0m\u001b[0;34m*\u001b[0m\u001b[0mS_a\u001b[0m\u001b[0;34m)\u001b[0m\u001b[0;34m\u001b[0m\u001b[0m\n\u001b[0m",
      "\u001b[0;31mAssertionError\u001b[0m: "
     ]
    }
   ],
   "source": [
    "# Check whether S(b) = 2S(a)\n",
    "S_a = np.array([1, 4])\n",
    "S_b = np.array([2, 6])\n",
    "assert np.array_equal(S_b, 2*S_a)"
   ]
  },
  {
   "cell_type": "markdown",
   "metadata": {},
   "source": [
    "S(a) != 2S(b). So S() is not a linear system because it\n",
    "does not follow the principle of superposition."
   ]
  },
  {
   "cell_type": "markdown",
   "metadata": {},
   "source": [
    "## System 3"
   ]
  },
  {
   "cell_type": "code",
   "execution_count": 13,
   "metadata": {
    "collapsed": true
   },
   "outputs": [],
   "source": [
    "# Now we have 3 vectors 'a,' 'b' and 'c'\n",
    "a = np.array([1, 1])\n",
    "b = np.array([1, -0.5])\n",
    "c = np.array([3, 0])"
   ]
  },
  {
   "cell_type": "code",
   "execution_count": 14,
   "metadata": {
    "collapsed": true
   },
   "outputs": [],
   "source": [
    "# Note that c = a + 2b\n",
    "assert np.array_equal(c, a + 2*b)"
   ]
  },
  {
   "cell_type": "code",
   "execution_count": 18,
   "metadata": {},
   "outputs": [
    {
     "ename": "AssertionError",
     "evalue": "",
     "output_type": "error",
     "traceback": [
      "\u001b[0;31m---------------------------------------------------------------------------\u001b[0m",
      "\u001b[0;31mAssertionError\u001b[0m                            Traceback (most recent call last)",
      "\u001b[0;32m<ipython-input-18-d93c9f34ec58>\u001b[0m in \u001b[0;36m<module>\u001b[0;34m()\u001b[0m\n\u001b[1;32m      3\u001b[0m \u001b[0mS_b\u001b[0m \u001b[0;34m=\u001b[0m \u001b[0mnp\u001b[0m\u001b[0;34m.\u001b[0m\u001b[0marray\u001b[0m\u001b[0;34m(\u001b[0m\u001b[0;34m[\u001b[0m\u001b[0;36m1\u001b[0m\u001b[0;34m,\u001b[0m \u001b[0;36m3\u001b[0m\u001b[0;34m]\u001b[0m\u001b[0;34m)\u001b[0m\u001b[0;34m\u001b[0m\u001b[0m\n\u001b[1;32m      4\u001b[0m \u001b[0mS_c\u001b[0m \u001b[0;34m=\u001b[0m \u001b[0mnp\u001b[0m\u001b[0;34m.\u001b[0m\u001b[0marray\u001b[0m\u001b[0;34m(\u001b[0m\u001b[0;34m[\u001b[0m\u001b[0;36m6\u001b[0m\u001b[0;34m,\u001b[0m \u001b[0;36m2\u001b[0m\u001b[0;34m]\u001b[0m\u001b[0;34m)\u001b[0m\u001b[0;34m\u001b[0m\u001b[0m\n\u001b[0;32m----> 5\u001b[0;31m \u001b[0;32massert\u001b[0m \u001b[0mnp\u001b[0m\u001b[0;34m.\u001b[0m\u001b[0marray_equal\u001b[0m\u001b[0;34m(\u001b[0m\u001b[0mS_c\u001b[0m\u001b[0;34m,\u001b[0m \u001b[0mS_a\u001b[0m \u001b[0;34m+\u001b[0m \u001b[0;36m2\u001b[0m\u001b[0;34m*\u001b[0m\u001b[0mS_b\u001b[0m\u001b[0;34m)\u001b[0m\u001b[0;34m\u001b[0m\u001b[0m\n\u001b[0m",
      "\u001b[0;31mAssertionError\u001b[0m: "
     ]
    }
   ],
   "source": [
    "# Check whether S(c) = S(a) + 2S(b)\n",
    "S_a = np.array([4, -1])\n",
    "S_b = np.array([1, 3])\n",
    "S_c = np.array([6, 2])\n",
    "assert np.array_equal(S_c, S_a + 2*S_b)"
   ]
  },
  {
   "cell_type": "markdown",
   "metadata": {},
   "source": [
    "S(c) != S(a) + 2S(b). So S() is not a linear system because it does not follow the principle of superposition."
   ]
  },
  {
   "cell_type": "markdown",
   "metadata": {},
   "source": [
    "## System 4"
   ]
  },
  {
   "cell_type": "code",
   "execution_count": 20,
   "metadata": {
    "collapsed": true
   },
   "outputs": [],
   "source": [
    "# we have 2 vectors 'a' and 'b'\n",
    "a = np.asarray([2, 4])\n",
    "b = np.asarray([-2, 2])"
   ]
  },
  {
   "cell_type": "markdown",
   "metadata": {},
   "source": [
    "We can't use the superposition test here because we cannot \n",
    "write one vector as a linear combination of the others. But we \n",
    "know that the operator would have to be a 1x2 matrix M, so we can \n",
    "do some basic algebra:\n",
    "            \n",
    "            2m_00 + 4m_01 = 0  -->  m_00 = -2m_01\n",
    "            -2m_00 + 2m_01 = 3  -->  -2(-2m_01) + 2m_01 = 3\n",
    "            -->  6m_01 = 3  -->  m_01 = 0.5\n",
    "            m_00 = -2(0.5) = -1\n",
    "            \n",
    "So the system is linear, because we have a 1x2 matrix M that satisfies\n",
    "Ma = 0 and Mb = 3. This matrix is M = [-1, 0.5] and I believe it\n",
    "is unique, because there was a unique solution when solving the\n",
    "system of equations to find it."
   ]
  },
  {
   "cell_type": "code",
   "execution_count": 21,
   "metadata": {
    "collapsed": true
   },
   "outputs": [],
   "source": [
    "# Check that M works\n",
    "M = np.asarray([[-1, 0.5]])\n",
    "# note: result of np.matmul(M, a) will be a 1-D vector, so we have to\n",
    "# index to get the scalar\n",
    "assert np.array_equal(np.matmul(M, a)[0], 0)\n",
    "assert np.array_equal(np.matmul(M, b)[0], 3)"
   ]
  },
  {
   "cell_type": "markdown",
   "metadata": {},
   "source": [
    "## System 5"
   ]
  },
  {
   "cell_type": "markdown",
   "metadata": {},
   "source": [
    "This cannot be a linear system. In order for this to be a linear system,\n",
    "we would need to find a matrix M such that M0 = [1,2]. But any matrix\n",
    "multiplied by the scalar 0 will have a resulting matrix with entries\n",
    "that are all zeros. So this cannot be a linear system."
   ]
  },
  {
   "cell_type": "markdown",
   "metadata": {},
   "source": [
    "# Problem #2"
   ]
  },
  {
   "cell_type": "markdown",
   "metadata": {},
   "source": [
    "## Part (a)"
   ]
  },
  {
   "cell_type": "code",
   "execution_count": 24,
   "metadata": {
    "collapsed": true
   },
   "outputs": [],
   "source": [
    "%matplotlib inline\n",
    "import matplotlib.pylab as plt"
   ]
  },
  {
   "cell_type": "code",
   "execution_count": 25,
   "metadata": {
    "collapsed": true
   },
   "outputs": [],
   "source": [
    "def plotVec2(matrix):\n",
    "    assert matrix.shape[0] == 2, \"Matrix must have height 2.\"\n",
    "    plt.figure()\n",
    "    # First, plot the axes\n",
    "    plt.plot([-1, 1], [0, 0], c='black')\n",
    "    plt.plot([0, 0], [-1, 1], c='black')\n",
    "    # Randomly generate colors for each line. Colors are 3D vectors of\n",
    "    # RGB values between 0-1.\n",
    "    colors = np.random.uniform(size=(matrix.shape[1], 3))\n",
    "    # Now cycle through the column vectors and plot each\n",
    "    for i in range(matrix.shape[1]):\n",
    "        x, y = matrix[:, i]\n",
    "        plt.plot([0, x], [0, y], c=colors[i])\n",
    "        plt.scatter([x], [y], c=colors[i])\n",
    "    plt.show()"
   ]
  },
  {
   "cell_type": "code",
   "execution_count": 26,
   "metadata": {},
   "outputs": [
    {
     "name": "stdout",
     "output_type": "stream",
     "text": [
      "Matrix:\n",
      "[[-0.22793528 -0.86182774  1.25302785 -0.24187543]\n",
      " [-0.77824956  0.21201271  0.88619778  1.33456451]]\n"
     ]
    },
    {
     "data": {
      "image/png": "[encoded data removed]",
      "text/plain": [
       "<matplotlib.figure.Figure at 0x10fff82e8>"
      ]
     },
     "metadata": {},
     "output_type": "display_data"
    }
   ],
   "source": [
    "# Generate a random height-2 matrix and plot the columns using our\n",
    "# function (code can be found above)\n",
    "matrix = np.random.normal(size=(2, 4))\n",
    "print('Matrix:')\n",
    "print(matrix)\n",
    "plotVec2(matrix)"
   ]
  },
  {
   "cell_type": "markdown",
   "metadata": {},
   "source": [
    "## Part (b)"
   ]
  },
  {
   "cell_type": "code",
   "execution_count": 93,
   "metadata": {
    "collapsed": true
   },
   "outputs": [],
   "source": [
    "import math\n",
    "\n",
    "def vecLenAngle(v1, v2, verbose=False):\n",
    "    \"\"\"\n",
    "    Angles are returned in radians. If one or more of the vectors has \n",
    "    zero length, 'N/A' is returned for the angle.\n",
    "    \"\"\"\n",
    "    # The magnitude is the sqrt of the sum of component squares\n",
    "    mag1 = np.sqrt(np.sum(np.square(v1)))\n",
    "    mag2 = np.sqrt(np.sum(np.square(v2)))\n",
    "    # Dot product = mag1*mag2*cos(theta), where theta is the angle between v1\n",
    "    # and v2. So theta = arccos(dot/(mag1*mag2))\n",
    "    dot = np.sum(np.multiply(v1, v2))\n",
    "    if mag1*mag2 == 0:\n",
    "        theta = 'N/A'\n",
    "    else:\n",
    "        theta = math.degrees(np.arccos(dot/(mag1*mag2)))\n",
    "        \n",
    "    if verbose:\n",
    "        print('Magnitude of vector 1: %0.2f' % mag1)\n",
    "        print('Magnitude of vector 2: %0.2f' % mag2)\n",
    "        if type(theta) == str:\n",
    "            print('Angle N/A')\n",
    "        else:\n",
    "            print('Angle: %0.1f degrees' % theta)\n",
    "    \n",
    "    return mag1, mag2, theta"
   ]
  },
  {
   "cell_type": "code",
   "execution_count": 94,
   "metadata": {},
   "outputs": [
    {
     "name": "stdout",
     "output_type": "stream",
     "text": [
      "Vector 1:\n",
      "[ 0.85541596  0.10455275]\n",
      "Vector 2:\n",
      "[-0.2494765   2.08867937]\n",
      "Magnitude of vector 1: 0.86\n",
      "Magnitude of vector 2: 2.10\n",
      "Angle: 89.8 degrees\n"
     ]
    }
   ],
   "source": [
    "# Generate two random vectors and use our function to compute\n",
    "# the magnitudes & lengths\n",
    "v1 = np.random.normal(size=(2,))\n",
    "v2 = np.random.normal(size=(2,))\n",
    "print('Vector 1:')\n",
    "print(v1)\n",
    "print('Vector 2:')\n",
    "print(v2)\n",
    "mag1, mag2, theta = vecLenAngle(v1, v2, verbose=True)"
   ]
  },
  {
   "cell_type": "markdown",
   "metadata": {},
   "source": [
    "## Part (c)"
   ]
  },
  {
   "cell_type": "code",
   "execution_count": 71,
   "metadata": {
    "collapsed": true
   },
   "outputs": [],
   "source": [
    "# generate a random matrix of size (2, 2)\n",
    "matrix = np.random.normal(size=(2, 2))"
   ]
  },
  {
   "cell_type": "code",
   "execution_count": 105,
   "metadata": {},
   "outputs": [],
   "source": [
    "# writing a wrapper for numpy's SVD because numpy returns singular values as an array (weird).\n",
    "def svd(matrix):\n",
    "    U, s, Vh = np.linalg.svd(matrix)\n",
    "    S = np.zeros(matrix.shape, dtype=float)\n",
    "    n = len(s)\n",
    "    S[:len(s), :len(s)] = np.diag(s)\n",
    "    return U, S, Vh"
   ]
  },
  {
   "cell_type": "code",
   "execution_count": 106,
   "metadata": {},
   "outputs": [
    {
     "name": "stdout",
     "output_type": "stream",
     "text": [
      "(2, 2)\n",
      "(2, 2)\n",
      "(2, 2)\n"
     ]
    }
   ],
   "source": [
    "# decompose our matrix with SVD\n",
    "U, S, Vh = svd(matrix)\n",
    "print(U.shape)\n",
    "print(S.shape)\n",
    "print(Vh.shape)"
   ]
  },
  {
   "cell_type": "code",
   "execution_count": 107,
   "metadata": {
    "collapsed": true
   },
   "outputs": [],
   "source": [
    "# define our basis vectors e1 and e2\n",
    "e1 = np.array([1, 0])\n",
    "e2 = np.array([0, 1])"
   ]
  },
  {
   "cell_type": "code",
   "execution_count": 108,
   "metadata": {},
   "outputs": [
    {
     "name": "stdout",
     "output_type": "stream",
     "text": [
      "Magnitude of vector 1: 1.00\n",
      "Magnitude of vector 2: 1.00\n",
      "Angle: 90.0 degrees\n"
     ]
    }
   ],
   "source": [
    "# observe lengths and angle between e1 and e2\n",
    "mag1, mag2, theta = vecLenAngle(e1, e2, verbose=True)"
   ]
  },
  {
   "cell_type": "code",
   "execution_count": 109,
   "metadata": {},
   "outputs": [
    {
     "name": "stdout",
     "output_type": "stream",
     "text": [
      "Magnitude of vector 1: 1.00\n",
      "Magnitude of vector 2: 1.00\n",
      "Angle: 90.0 degrees\n"
     ]
    }
   ],
   "source": [
    "# observe lengths and angle between Vhe1 and Vhe2\n",
    "Vhe1 = np.matmul(Vh, e1)\n",
    "Vhe2 = np.matmul(Vh, e2)\n",
    "mag1, mag2, theta = vecLenAngle(Vhe1, Vhe2, verbose=True)"
   ]
  },
  {
   "cell_type": "code",
   "execution_count": 110,
   "metadata": {},
   "outputs": [
    {
     "name": "stdout",
     "output_type": "stream",
     "text": [
      "Magnitude of vector 1: 2.13\n",
      "Magnitude of vector 2: 0.81\n",
      "Angle: 78.2 degrees\n"
     ]
    }
   ],
   "source": [
    "# observe lengths and angle between SVhe1 and SVhe2\n",
    "SVhe1 = np.matmul(S, Vhe1)\n",
    "SVhe2 = np.matmul(S, Vhe2)\n",
    "mag1, mag2, theta = vecLenAngle(SVhe1, SVhe2, verbose=True)"
   ]
  },
  {
   "cell_type": "code",
   "execution_count": 111,
   "metadata": {},
   "outputs": [
    {
     "name": "stdout",
     "output_type": "stream",
     "text": [
      "Magnitude of vector 1: 2.13\n",
      "Magnitude of vector 2: 0.81\n",
      "Angle: 78.2 degrees\n"
     ]
    }
   ],
   "source": [
    "# observe lengths and angle between USVhe1 and USVhe2\n",
    "USVhe1 = np.matmul(U, SVhe1)\n",
    "USVhe2 = np.matmul(U, SVhe2)\n",
    "mag1, mag2, theta = vecLenAngle(USVhe1, USVhe2, verbose=True)"
   ]
  },
  {
   "cell_type": "markdown",
   "metadata": {},
   "source": [
    "The only time that the vector magnitudes and the angle between the two vectors changed was during the S transformation (SVhen). The other two transformations did not change the magnitudes or angle. This makes sense because the other two transformations involved orthogonal matrices, which perform rotation."
   ]
  },
  {
   "cell_type": "code",
   "execution_count": 119,
   "metadata": {},
   "outputs": [
    {
     "data": {
      "image/png": "[encoded data removed]",
      "text/plain": [
       "<matplotlib.figure.Figure at 0x11bc60b70>"
      ]
     },
     "metadata": {},
     "output_type": "display_data"
    }
   ],
   "source": [
    "# first, plot e1 and e2\n",
    "plotVec2(np.vstack((e1, e2)))"
   ]
  },
  {
   "cell_type": "code",
   "execution_count": 120,
   "metadata": {},
   "outputs": [
    {
     "data": {
      "image/png": "[encoded data removed]",
      "text/plain": [
       "<matplotlib.figure.Figure at 0x11bda6898>"
      ]
     },
     "metadata": {},
     "output_type": "display_data"
    }
   ],
   "source": [
    "# next, plot Vhe1 and Vhe2. Notice that this is just a rotation\n",
    "plotVec2(np.vstack((Vhe1, Vhe2)))"
   ]
  },
  {
   "cell_type": "code",
   "execution_count": 121,
   "metadata": {},
   "outputs": [
    {
     "data": {
      "image/png": "[encoded data removed]",
      "text/plain": [
       "<matplotlib.figure.Figure at 0x11be6c940>"
      ]
     },
     "metadata": {},
     "output_type": "display_data"
    }
   ],
   "source": [
    "# next, plot SVhe1 and SVhe2. Here we actually change lengths and the angle.\n",
    "plotVec2(np.vstack((SVhe1, SVhe2)))"
   ]
  },
  {
   "cell_type": "code",
   "execution_count": 123,
   "metadata": {},
   "outputs": [
    {
     "data": {
      "image/png": "[encoded data removed]",
      "text/plain": [
       "<matplotlib.figure.Figure at 0x11c0c9278>"
      ]
     },
     "metadata": {},
     "output_type": "display_data"
    }
   ],
   "source": [
    "# next, plot USVhe1 and USVhe2. Notice that this is just a rotation.\n",
    "plotVec2(np.vstack((USVhe1, USVhe2)))"
   ]
  },
  {
   "cell_type": "markdown",
   "metadata": {},
   "source": [
    "## part (d)"
   ]
  },
  {
   "cell_type": "code",
   "execution_count": 140,
   "metadata": {},
   "outputs": [],
   "source": [
    "# create theta vector\n",
    "thetas = np.array([2*np.pi*n/64 for n in range(65)])\n",
    "P = np.hstack([[[np.cos(theta)], [np.sin(theta)]] for theta in thetas])"
   ]
  },
  {
   "cell_type": "code",
   "execution_count": null,
   "metadata": {
    "collapsed": true
   },
   "outputs": [],
   "source": []
  }
 ],
 "metadata": {
  "kernelspec": {
   "display_name": "Python 3",
   "language": "python",
   "name": "python3"
  },
  "language_info": {
   "codemirror_mode": {
    "name": "ipython",
    "version": 3
   },
   "file_extension": ".py",
   "mimetype": "text/x-python",
   "name": "python",
   "nbconvert_exporter": "python",
   "pygments_lexer": "ipython3",
   "version": "3.6.1"
  }
 },
 "nbformat": 4,
 "nbformat_minor": 2
}
