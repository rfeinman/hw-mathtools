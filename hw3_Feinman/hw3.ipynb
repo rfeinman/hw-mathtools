{
 "cells": [
  {
   "cell_type": "markdown",
   "metadata": {
    "collapsed": true
   },
   "source": [
    "Homework 3\n",
    "\n",
    "Math Tools for Neural and Cog Sci\n",
    "\n",
    "Reuben Feinman"
   ]
  },
  {
   "cell_type": "markdown",
   "metadata": {},
   "source": [
    "# Problem #1"
   ]
  },
  {
   "cell_type": "code",
   "execution_count": 1,
   "metadata": {
    "collapsed": true
   },
   "outputs": [],
   "source": [
    "from __future__ import division, print_function\n",
    "import scipy.io as sio\n",
    "import numpy as np\n",
    "%matplotlib inline\n",
    "import matplotlib.pylab as plt"
   ]
  },
  {
   "cell_type": "code",
   "execution_count": 2,
   "metadata": {},
   "outputs": [
    {
     "name": "stdout",
     "output_type": "stream",
     "text": [
      "(150, 14)\n"
     ]
    }
   ],
   "source": [
    "# Load the data matrix 'M'\n",
    "M = sio.loadmat('PCA.mat')['M']\n",
    "print(M.shape)"
   ]
  },
  {
   "cell_type": "markdown",
   "metadata": {},
   "source": [
    "## (a)"
   ]
  },
  {
   "cell_type": "code",
   "execution_count": 20,
   "metadata": {
    "collapsed": true
   },
   "outputs": [],
   "source": [
    "# Create new matrix M_tilde. From each row of M, \n",
    "# subtract the mean of that row to get M_tilde row.\n",
    "M_means = M.mean(axis=1)\n",
    "M_tilde = np.zeros_like(M)\n",
    "for i in range(M.shape[0]):\n",
    "    M_tilde[i] = M[i] - M_means[i]"
   ]
  },
  {
   "cell_type": "code",
   "execution_count": 21,
   "metadata": {
    "collapsed": true
   },
   "outputs": [],
   "source": [
    "def svd(matrix):\n",
    "    \"\"\"\n",
    "    A wrapper for numpy's SVD because numpy returns \n",
    "    singular values as an array (weird).\n",
    "    \"\"\"\n",
    "    U, s, Vh = np.linalg.svd(matrix)\n",
    "    S = np.zeros(matrix.shape, dtype=float)\n",
    "    S[:len(s), :len(s)] = np.diag(s)\n",
    "    return U, S, Vh"
   ]
  },
  {
   "cell_type": "markdown",
   "metadata": {},
   "source": [
    "Recalling from class, for a matrix $\\tilde{M}$ with SVD decomposition $\\tilde{M} = USV^T$, the eigenvalue decomposition of the matrix $\\tilde{M}^T\\tilde{M}$ comes out to be $\\tilde{M}^T\\tilde{M} = V(S^TS)V^T$. Thus, the eigenvalues are the diagonal values of the matrix $S^TS$ (i.e. the singular values in $S$, squared) and the eigenvectors are the columns of $V$."
   ]
  },
  {
   "cell_type": "code",
   "execution_count": 23,
   "metadata": {
    "collapsed": true
   },
   "outputs": [],
   "source": [
    "U, S, Vh = svd(M_tilde)"
   ]
  },
  {
   "cell_type": "code",
   "execution_count": 34,
   "metadata": {},
   "outputs": [
    {
     "name": "stdout",
     "output_type": "stream",
     "text": [
      "Eigenvectors:\n",
      "00:  [-0.34143835 -0.33846835 -0.37687186 -0.3557049   0.36366401  0.33460358\n",
      "  0.34944241  0.35842609  0.04261714  0.02373688  0.02573544 -0.03038708\n",
      " -0.03021717 -0.02513782]\n",
      "01:  [-0.02423879 -0.03019751 -0.01767955 -0.02606894  0.01801246  0.06887694\n",
      "  0.00676668  0.01671515 -0.4127319  -0.40326387 -0.40990575  0.40921324\n",
      "  0.39697884  0.407523  ]\n",
      "02:  [-0.55129212 -0.14594673  0.46450842  0.2928906   0.34870855 -0.29523731\n",
      " -0.1355069   0.18216142 -0.19011749  0.08258217  0.01838775  0.18642319\n",
      " -0.09970516 -0.15785641]\n",
      "03:  [ 0.02534686 -0.4013639   0.45884303 -0.37096648 -0.16186625 -0.04545518\n",
      "  0.3820342  -0.4101125   0.18592648 -0.02634879  0.10278505  0.26044253\n",
      "  0.13083584 -0.13010088]\n",
      "04:  [ -1.67924081e-02  -3.38506670e-01   1.26916926e-01  -4.67105251e-02\n",
      "  -2.36124384e-01   1.27469205e-01  -1.17435675e-01   8.72609905e-05\n",
      "  -3.48130797e-01   6.39901632e-01  -2.02988546e-02  -2.46311798e-01\n",
      "   4.29822411e-02   4.32953847e-01]\n",
      "05:  [ 0.17159172  0.23975715  0.33722672 -0.42495267  0.5103037   0.22715931\n",
      " -0.26329224 -0.15445809 -0.01983446  0.09117918 -0.37436322 -0.2296932\n",
      " -0.00126485 -0.10935905]\n",
      "06:  [-0.09461854  0.01912581  0.17400694  0.21712194 -0.19957266  0.41191671\n",
      "  0.1604584  -0.03140963  0.16640804 -0.06308413 -0.40070976  0.14768985\n",
      " -0.66249278  0.1551598 ]\n",
      "07:  [ 0.23278678  0.15667469  0.09007161 -0.38642311 -0.12025987  0.06225609\n",
      " -0.12245655  0.28356876 -0.4465532  -0.02649401  0.38735019  0.37660994\n",
      " -0.38400632 -0.103125  ]\n",
      "08:  [-0.06535371 -0.11286504  0.39752433  0.04297105 -0.21007129  0.3394699\n",
      " -0.11024324  0.28601468 -0.0073332  -0.50659969  0.24903532 -0.47665119\n",
      "  0.15309197  0.0210101 ]\n",
      "09:  [-0.04625409 -0.1889135  -0.00137475 -0.26429492 -0.10780197 -0.14061969\n",
      " -0.56293243  0.27889953  0.57675001 -0.00367914 -0.05588019  0.25009142\n",
      "  0.005446    0.2605637 ]\n",
      "10:  [ 0.43158871 -0.19359483  0.13321499  0.01297605 -0.09001209 -0.36190981\n",
      "  0.27494884  0.54554887 -0.01353006  0.03963113 -0.42914233 -0.13397289\n",
      " -0.01066875 -0.20507782]\n",
      "11:  [ 0.22010824 -0.16853335  0.01824132 -0.01362213  0.39437661 -0.36003891\n",
      "  0.12826717 -0.1394043  -0.00189133 -0.27273879  0.21337341 -0.21020866\n",
      " -0.36169388  0.5537646 ]\n",
      "12:  [ 0.41574421 -0.56516634 -0.12487563  0.355923    0.24156688  0.29260078\n",
      " -0.31169075 -0.12863178 -0.06421386 -0.05281125  0.05461347  0.16927601\n",
      " -0.01993264 -0.26240209]\n",
      "13:  [ 0.26726124  0.26726124  0.26726124  0.26726124  0.26726124  0.26726124\n",
      "  0.26726124  0.26726124  0.26726124  0.26726124  0.26726124  0.26726124\n",
      "  0.26726124  0.26726124]\n"
     ]
    }
   ],
   "source": [
    "# Display the eigenvectors\n",
    "print('Eigenvectors:')\n",
    "\n",
    "for i, vec in enumerate([Vh[i] for i in range(Vh.shape[0])]):\n",
    "    print(\"%0.2i: \" % i, vec)"
   ]
  },
  {
   "cell_type": "code",
   "execution_count": 35,
   "metadata": {
    "collapsed": true
   },
   "outputs": [],
   "source": [
    "D = np.matmul(S.T, S)\n",
    "eigenvalues = [D[i,i] for i in range(len(D))]"
   ]
  },
  {
   "cell_type": "markdown",
   "metadata": {},
   "source": [
    "Let's go ahead and plot the eigenvalues now."
   ]
  },
  {
   "cell_type": "code",
   "execution_count": 51,
   "metadata": {},
   "outputs": [
    {
     "data": {
      "image/png": "[encoded data removed]",
      "text/plain": [
       "<matplotlib.figure.Figure at 0x10f9ad128>"
      ]
     },
     "metadata": {},
     "output_type": "display_data"
    }
   ],
   "source": [
    "# eigenvalue indices\n",
    "inds = list(range(1, len(eigenvalues)+1))\n",
    "plt.figure(figsize=(8,6))\n",
    "plt.bar(inds, eigenvalues)\n",
    "plt.xticks(inds, fontsize='14')\n",
    "plt.yticks(fontsize='14')\n",
    "plt.xlabel('Eigenvalue #', fontsize='18')\n",
    "plt.ylabel('Value', fontsize='18')\n",
    "plt.show()"
   ]
  },
  {
   "cell_type": "code",
   "execution_count": 53,
   "metadata": {},
   "outputs": [
    {
     "data": {
      "text/plain": [
       "1639.5914464575887"
      ]
     },
     "execution_count": 53,
     "metadata": {},
     "output_type": "execute_result"
    }
   ],
   "source": [
    "sum(eigenvalues)"
   ]
  },
  {
   "cell_type": "markdown",
   "metadata": {},
   "source": [
    "I think that this dataset has a \"true\" dimensionality of 2. As you can see by the eigenvalues, the majority of the variance in the data (nearly 90%) occurs along the first 2 principle component axes. The 3rd eigenvalue shows a very sharp decline from the first 2."
   ]
  },
  {
   "cell_type": "markdown",
   "metadata": {},
   "source": [
    "## (b)"
   ]
  },
  {
   "cell_type": "code",
   "execution_count": 64,
   "metadata": {
    "collapsed": true
   },
   "outputs": [],
   "source": [
    "# Compute projection onto the first principle component\n",
    "proj1 = np.matmul(M_tilde, Vh[0])"
   ]
  },
  {
   "cell_type": "code",
   "execution_count": 65,
   "metadata": {},
   "outputs": [
    {
     "data": {
      "image/png": "[encoded data removed]",
      "text/plain": [
       "<matplotlib.figure.Figure at 0x10f3be6a0>"
      ]
     },
     "metadata": {},
     "output_type": "display_data"
    }
   ],
   "source": [
    "# Plot a histogram of the projected values\n",
    "plt.figure(figsize=(8,6))\n",
    "plt.hist(proj1, bins=30)\n",
    "plt.xlabel('Projection value', fontsize=15)\n",
    "plt.ylabel('Frequency', fontsize=15)\n",
    "plt.show()"
   ]
  },
  {
   "cell_type": "code",
   "execution_count": 78,
   "metadata": {},
   "outputs": [
    {
     "name": "stdout",
     "output_type": "stream",
     "text": [
      "First eigenvalue: 808.577\n",
      "Sum of squares: 808.577\n"
     ]
    }
   ],
   "source": [
    "# Show that the sum of squares of the projected values is equal \n",
    "# to the first eigenvalue (within small precision error)\n",
    "sum_of_squares1 = np.sum(np.square(proj1))\n",
    "assert np.abs(sum_of_squares1 - eigenvalues[0]) < 1e-3\n",
    "print('First eigenvalue: %0.3f' % eigenvalues[0])\n",
    "print('Sum of squares: %0.3f' % sum_of_squares1)"
   ]
  },
  {
   "cell_type": "code",
   "execution_count": 81,
   "metadata": {},
   "outputs": [
    {
     "name": "stdout",
     "output_type": "stream",
     "text": [
      "Portion of the variance that lies along PC 1: 49.32%\n"
     ]
    }
   ],
   "source": [
    "# To compute what portion of the variance lies along this component,\n",
    "# we must compute what portion of the total eigenvalue mass lies in\n",
    "# this eigenvalue\n",
    "portion = eigenvalues[0]/np.sum(eigenvalues)\n",
    "print('Portion of the variance that lies along PC 1: %0.2f%%' % (100*portion))"
   ]
  },
  {
   "cell_type": "markdown",
   "metadata": {},
   "source": [
    "## (c)"
   ]
  },
  {
   "cell_type": "code",
   "execution_count": 84,
   "metadata": {
    "collapsed": true
   },
   "outputs": [],
   "source": [
    "# Compute projection onto the first two components\n",
    "proj1and2 = np.matmul(M_tilde, Vh[:2].T)"
   ]
  },
  {
   "cell_type": "code",
   "execution_count": 93,
   "metadata": {},
   "outputs": [
    {
     "data": {
      "image/png": "[encoded data removed]",
      "text/plain": [
       "<matplotlib.figure.Figure at 0x10f937668>"
      ]
     },
     "metadata": {},
     "output_type": "display_data"
    }
   ],
   "source": [
    "# Show a scatter plot of the first 2 principle components, using\n",
    "# equal scales on the two axes\n",
    "plt.figure(figsize=(8,6))\n",
    "plt.scatter(proj1and2[:,0], proj1and2[:,1])\n",
    "plt.axis('equal')\n",
    "plt.xlabel('PC #1', fontsize=15)\n",
    "plt.ylabel('PC #2', fontsize=15)\n",
    "plt.show()"
   ]
  },
  {
   "cell_type": "code",
   "execution_count": 98,
   "metadata": {},
   "outputs": [
    {
     "name": "stdout",
     "output_type": "stream",
     "text": [
      "Sum of lambda1 + lambda2: 1452.596\n",
      "Sum of squared lengths of projected vectors: 1452.596\n"
     ]
    }
   ],
   "source": [
    "# Show that the sum of the squared lengths of these vectors\n",
    "# is equal to lambda1 + lambda2 (within precision error)\n",
    "lengths = np.linalg.norm(proj1and2, axis=1)\n",
    "sum_of_squares1and2 = np.sum(np.square(lengths))\n",
    "assert np.abs(sum_of_squares1and2 - (eigenvalues[0] + eigenvalues[1])) < 1e-3\n",
    "print('Sum of lambda1 + lambda2: %0.3f' % (eigenvalues[0] + eigenvalues[1]))\n",
    "print('Sum of squared lengths of projected vectors: %0.3f' % sum_of_squares1and2)"
   ]
  },
  {
   "cell_type": "markdown",
   "metadata": {},
   "source": [
    "## (d)"
   ]
  },
  {
   "cell_type": "code",
   "execution_count": 105,
   "metadata": {},
   "outputs": [
    {
     "data": {
      "image/png": "[encoded data removed]",
      "text/plain": [
       "<matplotlib.figure.Figure at 0x10f5ff908>"
      ]
     },
     "metadata": {},
     "output_type": "display_data"
    },
    {
     "name": "stdout",
     "output_type": "stream",
     "text": [
      "\n",
      "\n"
     ]
    },
    {
     "data": {
      "image/png": "[encoded data removed]",
      "text/plain": [
       "<matplotlib.figure.Figure at 0x10f832c18>"
      ]
     },
     "metadata": {},
     "output_type": "display_data"
    }
   ],
   "source": [
    "# Let's plot eigenvectors 1 & 2.\n",
    "inds = list(range(1, 15))\n",
    "# starting with 1:\n",
    "plt.figure(figsize=(8,6))\n",
    "plt.title('Eigenvector #1', fontsize=20)\n",
    "plt.bar(inds, Vh[0])\n",
    "plt.xticks(inds, fontsize=14)\n",
    "plt.yticks(fontsize=14)\n",
    "plt.xlabel('Dimension', fontsize=18)\n",
    "plt.ylabel('Value', fontsize=18)\n",
    "plt.show()\n",
    "print('\\n')\n",
    "# now 2:\n",
    "plt.figure(figsize=(8,6))\n",
    "plt.title('Eigenvector #2', fontsize=20)\n",
    "plt.bar(inds, Vh[1])\n",
    "plt.xticks(inds, fontsize=14)\n",
    "plt.yticks(fontsize=14)\n",
    "plt.xlabel('Dimension', fontsize=18)\n",
    "plt.ylabel('Value', fontsize=18)\n",
    "plt.show()"
   ]
  },
  {
   "cell_type": "markdown",
   "metadata": {},
   "source": [
    "Eigenvector \\#1 prefers a vector with negative values in dimensions 1-4 and positive values in dimensions 5-8. The values of dimensions 9-14 have negligible impact for this filter.\n",
    "\n",
    "Eigenvector \\#2 prefers a vector with negative values in dimensions 9-11 and positive values in dimensions 12-14. The values of dimensions 1-8 have negligible impact.\n",
    "\n",
    "It would be possible to categorize... TODO"
   ]
  },
  {
   "cell_type": "markdown",
   "metadata": {},
   "source": [
    "# Problem #2"
   ]
  },
  {
   "cell_type": "markdown",
   "metadata": {},
   "source": [
    "## 2.35"
   ]
  },
  {
   "cell_type": "markdown",
   "metadata": {},
   "source": [
    "### (a)"
   ]
  },
  {
   "cell_type": "markdown",
   "metadata": {},
   "source": [
    "Let $\\tilde{x_2}$ represent the vector $\\vec{x_2}$ shifted $1$ timestep to the left. Then the output $T(\\tilde{x_2})$ is equivalent to the vector $T(\\vec{x_2})$ shifted $1$ timestep to the left, since the system $T$ is time invariant. Thus, $T(\\tilde{x_2})$ is the vector with a value of $2$ at $n=1$ and $4$ at $n=2$, with all other elements set to $0$.\n",
    "\n",
    "Now, note that $\\vec{x_1} = \\vec{x_2} + \\frac{1}{2}\\tilde{x_2}$, and thus $T(\\vec{x_1}) = T(\\vec{x_2} + \\frac{1}{2}\\tilde{x_2})$ which we know is the vector with value $2$ at $n=1$, value $3$ at $n=2$, and $0$ elsewhere. For the system $T$ to be linear, by the principle of superposition we would need to have it be the case that $T(\\vec{x_2} + \\frac{1}{2}\\tilde{x_2}) = T(\\vec{x_2}) + \\frac{1}{2}T(\\tilde{x_2})$. Let's check if this is the case:\n",
    "\n",
    "$T(\\vec{x_2}) + \\frac{1}{2}T(\\tilde{x_2})$ = [vector with value $2$ at $n=2$ and value $4$ at $n=3$, $0$ elsewhere] + [vector with value $1$ at $n=1$ and value $2$ at $n=2$, $0$ elsewhere] = [vector with value 1 at n=1, value 4 at n=2 and n=3, 0 elsewhere].\n",
    "\n",
    "This is a different vector from $T(\\vec{x_1})$, so the system is not linear."
   ]
  },
  {
   "cell_type": "markdown",
   "metadata": {},
   "source": [
    "### (b)"
   ]
  },
  {
   "cell_type": "markdown",
   "metadata": {},
   "source": [
    "Assume we are given $\\delta[n]$, a vector that is $0$ everywhere except at index $n=0$, where it is $1$. Note that $\\delta[n]$ is equivalent to the vector $\\vec{x_3}$ shifted $4$ steps to the left. Since the system $T$ is time invariant, this means that $T(\\delta[n])$ must be equivalent to $T(\\vec{x_3})$ shifted $4$ steps to the left. Thus, the response $y[n] = T(\\delta[n])$ is equal to the vector with value 3 at -6 and value 2 at -5, and 0 elsewhere."
   ]
  },
  {
   "cell_type": "markdown",
   "metadata": {},
   "source": [
    "### (c)"
   ]
  },
  {
   "cell_type": "markdown",
   "metadata": {},
   "source": [
    "Since the system $T$ is time-invariant, we can determine the response of $T$ for any vector that is a time-shifted version of $\\vec{x_1}$, $\\vec{x_2}$ or $\\vec{x_3}$, since we know the responses for these $3$ vectors. If the system were linear, we would be able to determine the response for linear combinations of these $3$ vectors, however this is not the case. Thus, we can only determine responses for input vectors that are time-shifted versions of $\\vec{x_1}$, $\\vec{x_2}$ or $\\vec{x_3}$."
   ]
  },
  {
   "cell_type": "markdown",
   "metadata": {},
   "source": [
    "## 2.36"
   ]
  },
  {
   "cell_type": "markdown",
   "metadata": {},
   "source": [
    "### (a)"
   ]
  },
  {
   "cell_type": "markdown",
   "metadata": {},
   "source": [
    "### (b)"
   ]
  },
  {
   "cell_type": "markdown",
   "metadata": {},
   "source": [
    "# Problem #3"
   ]
  },
  {
   "cell_type": "code",
   "execution_count": 41,
   "metadata": {},
   "outputs": [],
   "source": [
    "# NOTE: grader must have Python bindings for MATLAB installed.\n",
    "# See here for details: https://www.mathworks.com/help/matlab/matlab_external/install-the-matlab-engine-for-python.html\n",
    "import os\n",
    "import matlab.engine\n",
    "eng = matlab.engine.start_matlab()\n",
    "eng.addpath(os.path.realpath('.'),nargout=0)"
   ]
  },
  {
   "cell_type": "markdown",
   "metadata": {},
   "source": [
    "## (a)"
   ]
  },
  {
   "cell_type": "code",
   "execution_count": 11,
   "metadata": {
    "collapsed": true
   },
   "outputs": [],
   "source": [
    "def unknownSystemX(vec, X):\n",
    "    \"\"\"\n",
    "    A wrapper function for the matlab function unknownSystemX.\n",
    "    Does the necessary data type transformations to the input, \n",
    "    calls the matlab function, transforms the output back \n",
    "    into numpy, and returns.\n",
    "    \"\"\"\n",
    "    assert X in [1,2,3], 'paramter X must be an integer thats either 1, 2 or 3.'\n",
    "    vec_m = matlab.double(vec.tolist())\n",
    "    if X == 1:\n",
    "        output = eng.unknownSystem1(vec_m)\n",
    "    elif X == 2:\n",
    "        output = eng.unknownSystem2(vec_m)\n",
    "    else:\n",
    "        output = eng.unknownSystem3(vec_m)\n",
    "        \n",
    "    return np.asarray(output)\n",
    "\n",
    "def createImpulseColumnVec(n, D=64):\n",
    "    \"\"\"\n",
    "    Creates a column vector of dimensionality D that is an impulse \n",
    "    vector with value 1 at entry n.\n",
    "    \"\"\"\n",
    "    x = np.zeros((D, 1))\n",
    "    x[n,0] = 1\n",
    "    return x"
   ]
  },
  {
   "cell_type": "markdown",
   "metadata": {},
   "source": [
    "First I will test that each system is shift-invariant by observing the response to an impulse vector at n=0 and then a few successive impulse vectors"
   ]
  },
  {
   "cell_type": "code",
   "execution_count": 72,
   "metadata": {},
   "outputs": [],
   "source": [
    "def checkShiftInvariantAndCircular(X, verbose=False):\n",
    "    \"\"\"\n",
    "    A function to test the shift invariance of unknownSystemX.\n",
    "    Measures response to an impulse at n=0 and compares shifted\n",
    "    versions of this response to the responses of impulses at a\n",
    "    few later positions. Also checks on the periodic boundary-handling.\n",
    "    \"\"\"\n",
    "    # first observe response to impulse vector at n=0\n",
    "    x0 = createImpulseColumnVec(0)\n",
    "    y0 = unknownSystemX(x0, X)\n",
    "    # cycle through and check the first 5\n",
    "    for i in range(1, 6):\n",
    "        # observe response to impulse vector at n=i\n",
    "        x = createImpulseColumnVec(i)\n",
    "        y = unknownSystemX(x, X)\n",
    "        # compare it to response of n=0 shifted by i\n",
    "        y0_shifted = np.roll(y0, i)\n",
    "        assert np.array_equal(y, y0_shifted), \\\n",
    "        'Test failed: unknownSystem%i is not shift-invariant.' % X\n",
    "        if verbose:\n",
    "            print('y[%i]: \\n' % i, y.reshape(-1,))\n",
    "            print('y[0] shifted by %i: \\n' % i, y0_shifted.reshape(-1,))\n",
    "            print('\\n')\n",
    "            \n",
    "    # now, check for circular boundary handling. Shift impulse vector\n",
    "    # backwards and check for equality\n",
    "    for i in range(-6, 0):\n",
    "        # observe response to impulse vector at n=i\n",
    "        x = createImpulseColumnVec(i)\n",
    "        y = unknownSystemX(x, X)\n",
    "        # compare it to response of n=0 shifted by i\n",
    "        y0_shifted = np.roll(y0, i)\n",
    "        assert np.array_equal(y, y0_shifted), \\\n",
    "        'Test failed: unknownSystem%i does not have circular boundary handling.' % X\n",
    "        if verbose:\n",
    "            print('y[%i]: \\n' % i, y.reshape(-1,))\n",
    "            print('y[0] shifted by %i: \\n' % i, y0_shifted.reshape(-1,))\n",
    "            print('\\n')\n",
    "    \n",
    "    print('Test passed: unknownSystem%i is shift-invariant and has circular boundary handling.' % X)"
   ]
  },
  {
   "cell_type": "code",
   "execution_count": 73,
   "metadata": {},
   "outputs": [
    {
     "name": "stdout",
     "output_type": "stream",
     "text": [
      "Test passed: unknownSystem1 is shift-invariant and has circular boundary handling.\n"
     ]
    }
   ],
   "source": [
    "# note to grader: call these functions with verbose=True to visualize the tests\n",
    "checkShiftInvariantAndCircular(X=1)"
   ]
  },
  {
   "cell_type": "code",
   "execution_count": 74,
   "metadata": {},
   "outputs": [
    {
     "name": "stdout",
     "output_type": "stream",
     "text": [
      "Test passed: unknownSystem2 is shift-invariant and has circular boundary handling.\n"
     ]
    }
   ],
   "source": [
    "checkShiftInvariantAndCircular(X=2)"
   ]
  },
  {
   "cell_type": "code",
   "execution_count": 75,
   "metadata": {},
   "outputs": [
    {
     "ename": "AssertionError",
     "evalue": "Test failed: unknownSystem3 does not have circular boundary handling.",
     "output_type": "error",
     "traceback": [
      "\u001b[0;31m---------------------------------------------------------------------------\u001b[0m",
      "\u001b[0;31mAssertionError\u001b[0m                            Traceback (most recent call last)",
      "\u001b[0;32m<ipython-input-75-eaa36fafded8>\u001b[0m in \u001b[0;36m<module>\u001b[0;34m()\u001b[0m\n\u001b[0;32m----> 1\u001b[0;31m \u001b[0mcheckShiftInvariantAndCircular\u001b[0m\u001b[0;34m(\u001b[0m\u001b[0mX\u001b[0m\u001b[0;34m=\u001b[0m\u001b[0;36m3\u001b[0m\u001b[0;34m)\u001b[0m\u001b[0;34m\u001b[0m\u001b[0m\n\u001b[0m",
      "\u001b[0;32m<ipython-input-72-6bfe25daa07e>\u001b[0m in \u001b[0;36mcheckShiftInvariantAndCircular\u001b[0;34m(X, verbose)\u001b[0m\n\u001b[1;32m     30\u001b[0m         \u001b[0;31m# compare it to response of n=0 shifted by i\u001b[0m\u001b[0;34m\u001b[0m\u001b[0;34m\u001b[0m\u001b[0m\n\u001b[1;32m     31\u001b[0m         \u001b[0my0_shifted\u001b[0m \u001b[0;34m=\u001b[0m \u001b[0mnp\u001b[0m\u001b[0;34m.\u001b[0m\u001b[0mroll\u001b[0m\u001b[0;34m(\u001b[0m\u001b[0my0\u001b[0m\u001b[0;34m,\u001b[0m \u001b[0mi\u001b[0m\u001b[0;34m)\u001b[0m\u001b[0;34m\u001b[0m\u001b[0m\n\u001b[0;32m---> 32\u001b[0;31m         \u001b[0;32massert\u001b[0m \u001b[0mnp\u001b[0m\u001b[0;34m.\u001b[0m\u001b[0marray_equal\u001b[0m\u001b[0;34m(\u001b[0m\u001b[0my\u001b[0m\u001b[0;34m,\u001b[0m \u001b[0my0_shifted\u001b[0m\u001b[0;34m)\u001b[0m\u001b[0;34m,\u001b[0m         \u001b[0;34m'Test failed: unknownSystem%i does not have circular boundary handling.'\u001b[0m \u001b[0;34m%\u001b[0m \u001b[0mX\u001b[0m\u001b[0;34m\u001b[0m\u001b[0m\n\u001b[0m\u001b[1;32m     33\u001b[0m         \u001b[0;32mif\u001b[0m \u001b[0mverbose\u001b[0m\u001b[0;34m:\u001b[0m\u001b[0;34m\u001b[0m\u001b[0m\n\u001b[1;32m     34\u001b[0m             \u001b[0;32mprint\u001b[0m\u001b[0;34m(\u001b[0m\u001b[0;34m'y[%i]: \\n'\u001b[0m \u001b[0;34m%\u001b[0m \u001b[0mi\u001b[0m\u001b[0;34m,\u001b[0m \u001b[0my\u001b[0m\u001b[0;34m.\u001b[0m\u001b[0mreshape\u001b[0m\u001b[0;34m(\u001b[0m\u001b[0;34m-\u001b[0m\u001b[0;36m1\u001b[0m\u001b[0;34m,\u001b[0m\u001b[0;34m)\u001b[0m\u001b[0;34m)\u001b[0m\u001b[0;34m\u001b[0m\u001b[0m\n",
      "\u001b[0;31mAssertionError\u001b[0m: Test failed: unknownSystem3 does not have circular boundary handling."
     ]
    }
   ],
   "source": [
    "checkShiftInvariantAndCircular(X=3)"
   ]
  },
  {
   "cell_type": "markdown",
   "metadata": {},
   "source": [
    "So we see that systems 1 & 2 are shift invariant w/ circular boundary handling, but not system 3. Now, let's check for each of these systems whether the response to a sum of two impulses is equal to the sum of their individual responses."
   ]
  },
  {
   "cell_type": "code",
   "execution_count": null,
   "metadata": {
    "collapsed": true
   },
   "outputs": [],
   "source": [
    "def checkLinearity(X, verbose=False):\n",
    "    \"\"\"\n",
    "    Function to check the linearity of unknownSystemX. To do this,\n",
    "    we check that the response to a sum of two different impulse \n",
    "    vectors is equal to the sum of their individual responses.\n",
    "    \"\"\"\n",
    "    # define two input vectors\n",
    "    x0 = createImpulseColumnVec(0)\n",
    "    x1 = createImpulseColumnVec(1)\n",
    "    # compute their individual responses\n",
    "    y0 = unknownSystemX(x0, X)\n",
    "    y1 = unknownSystemX(x1, X)\n",
    "    # compute the response to the sum of these two vectors\n",
    "    y_sum = unknownSystemX(x0+x1, X)\n",
    "    # if 'verbose' option is set, let's print out our comparison\n",
    "    if verbose:\n",
    "        print('Response to first impulse vector: \\n', y0)\n",
    "        print('Response to second impulse vector: \\n', y1)\n",
    "        print('Re')\n",
    "    # check that it is equal to the sum of their individual responses\n",
    "    assert np.array_equal(y_sum, y0+y1), 'Test failed: unknownSystem%i is not linear.' % X\n",
    "    print('Test passed: unknownSystem%i is linear' % X)"
   ]
  },
  {
   "cell_type": "markdown",
   "metadata": {},
   "source": [
    "## (b)"
   ]
  },
  {
   "cell_type": "code",
   "execution_count": null,
   "metadata": {
    "collapsed": true
   },
   "outputs": [],
   "source": []
  },
  {
   "cell_type": "markdown",
   "metadata": {},
   "source": [
    "## (c)"
   ]
  },
  {
   "cell_type": "markdown",
   "metadata": {},
   "source": [
    "# Problem #4"
   ]
  },
  {
   "cell_type": "markdown",
   "metadata": {},
   "source": [
    "## (a)"
   ]
  },
  {
   "cell_type": "markdown",
   "metadata": {},
   "source": [
    "## (b)"
   ]
  },
  {
   "cell_type": "markdown",
   "metadata": {},
   "source": [
    "## (c)"
   ]
  },
  {
   "cell_type": "code",
   "execution_count": null,
   "metadata": {
    "collapsed": true
   },
   "outputs": [],
   "source": []
  }
 ],
 "metadata": {
  "kernelspec": {
   "display_name": "Python 2",
   "language": "python",
   "name": "python2"
  },
  "language_info": {
   "codemirror_mode": {
    "name": "ipython",
    "version": 2
   },
   "file_extension": ".py",
   "mimetype": "text/x-python",
   "name": "python",
   "nbconvert_exporter": "python",
   "pygments_lexer": "ipython2",
   "version": "2.7.13"
  }
 },
 "nbformat": 4,
 "nbformat_minor": 2
}
