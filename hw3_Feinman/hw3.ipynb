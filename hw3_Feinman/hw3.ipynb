{
 "cells": [
  {
   "cell_type": "markdown",
   "metadata": {
    "collapsed": true
   },
   "source": [
    "Homework 3\n",
    "\n",
    "Math Tools for Neural and Cog Sci\n",
    "\n",
    "Reuben Feinman"
   ]
  },
  {
   "cell_type": "markdown",
   "metadata": {},
   "source": [
    "# Problem #1"
   ]
  },
  {
   "cell_type": "code",
   "execution_count": 38,
   "metadata": {
    "collapsed": true
   },
   "outputs": [],
   "source": [
    "from __future__ import division, print_function\n",
    "import scipy.io as sio\n",
    "import numpy as np\n",
    "%matplotlib inline\n",
    "import matplotlib.pylab as plt"
   ]
  },
  {
   "cell_type": "code",
   "execution_count": 19,
   "metadata": {},
   "outputs": [
    {
     "name": "stdout",
     "output_type": "stream",
     "text": [
      "(150, 14)\n"
     ]
    }
   ],
   "source": [
    "# Load the data matrix 'M'\n",
    "M = sio.loadmat('PCA.mat')['M']\n",
    "print(M.shape)"
   ]
  },
  {
   "cell_type": "markdown",
   "metadata": {},
   "source": [
    "## (a)"
   ]
  },
  {
   "cell_type": "code",
   "execution_count": 20,
   "metadata": {
    "collapsed": true
   },
   "outputs": [],
   "source": [
    "# Create new matrix M_tilde. From each row of M, \n",
    "# subtract the mean of that row to get M_tilde row.\n",
    "M_means = M.mean(axis=1)\n",
    "M_tilde = np.zeros_like(M)\n",
    "for i in range(M.shape[0]):\n",
    "    M_tilde[i] = M[i] - M_means[i]"
   ]
  },
  {
   "cell_type": "code",
   "execution_count": 21,
   "metadata": {
    "collapsed": true
   },
   "outputs": [],
   "source": [
    "def svd(matrix):\n",
    "    \"\"\"\n",
    "    A wrapper for numpy's SVD because numpy returns \n",
    "    singular values as an array (weird).\n",
    "    \"\"\"\n",
    "    U, s, Vh = np.linalg.svd(matrix)\n",
    "    S = np.zeros(matrix.shape, dtype=float)\n",
    "    S[:len(s), :len(s)] = np.diag(s)\n",
    "    return U, S, Vh"
   ]
  },
  {
   "cell_type": "markdown",
   "metadata": {},
   "source": [
    "Recalling from class, for a matrix $\\tilde{M}$ with SVD decomposition $\\tilde{M} = USV^T$, the eigenvalue decomposition of the matrix $\\tilde{M}^T\\tilde{M}$ comes out to be $\\tilde{M}^T\\tilde{M} = V(S^TS)V^T$. Thus, the eigenvalues are the diagonal values of the matrix $S^TS$ (i.e. the singular values in $S$, squared) and the eigenvectors are the columns of $V$."
   ]
  },
  {
   "cell_type": "code",
   "execution_count": 23,
   "metadata": {
    "collapsed": true
   },
   "outputs": [],
   "source": [
    "U, S, Vh = svd(M_tilde)"
   ]
  },
  {
   "cell_type": "code",
   "execution_count": 34,
   "metadata": {},
   "outputs": [
    {
     "name": "stdout",
     "output_type": "stream",
     "text": [
      "Eigenvectors:\n",
      "00:  [-0.34143835 -0.33846835 -0.37687186 -0.3557049   0.36366401  0.33460358\n",
      "  0.34944241  0.35842609  0.04261714  0.02373688  0.02573544 -0.03038708\n",
      " -0.03021717 -0.02513782]\n",
      "01:  [-0.02423879 -0.03019751 -0.01767955 -0.02606894  0.01801246  0.06887694\n",
      "  0.00676668  0.01671515 -0.4127319  -0.40326387 -0.40990575  0.40921324\n",
      "  0.39697884  0.407523  ]\n",
      "02:  [-0.55129212 -0.14594673  0.46450842  0.2928906   0.34870855 -0.29523731\n",
      " -0.1355069   0.18216142 -0.19011749  0.08258217  0.01838775  0.18642319\n",
      " -0.09970516 -0.15785641]\n",
      "03:  [ 0.02534686 -0.4013639   0.45884303 -0.37096648 -0.16186625 -0.04545518\n",
      "  0.3820342  -0.4101125   0.18592648 -0.02634879  0.10278505  0.26044253\n",
      "  0.13083584 -0.13010088]\n",
      "04:  [ -1.67924081e-02  -3.38506670e-01   1.26916926e-01  -4.67105251e-02\n",
      "  -2.36124384e-01   1.27469205e-01  -1.17435675e-01   8.72609905e-05\n",
      "  -3.48130797e-01   6.39901632e-01  -2.02988546e-02  -2.46311798e-01\n",
      "   4.29822411e-02   4.32953847e-01]\n",
      "05:  [ 0.17159172  0.23975715  0.33722672 -0.42495267  0.5103037   0.22715931\n",
      " -0.26329224 -0.15445809 -0.01983446  0.09117918 -0.37436322 -0.2296932\n",
      " -0.00126485 -0.10935905]\n",
      "06:  [-0.09461854  0.01912581  0.17400694  0.21712194 -0.19957266  0.41191671\n",
      "  0.1604584  -0.03140963  0.16640804 -0.06308413 -0.40070976  0.14768985\n",
      " -0.66249278  0.1551598 ]\n",
      "07:  [ 0.23278678  0.15667469  0.09007161 -0.38642311 -0.12025987  0.06225609\n",
      " -0.12245655  0.28356876 -0.4465532  -0.02649401  0.38735019  0.37660994\n",
      " -0.38400632 -0.103125  ]\n",
      "08:  [-0.06535371 -0.11286504  0.39752433  0.04297105 -0.21007129  0.3394699\n",
      " -0.11024324  0.28601468 -0.0073332  -0.50659969  0.24903532 -0.47665119\n",
      "  0.15309197  0.0210101 ]\n",
      "09:  [-0.04625409 -0.1889135  -0.00137475 -0.26429492 -0.10780197 -0.14061969\n",
      " -0.56293243  0.27889953  0.57675001 -0.00367914 -0.05588019  0.25009142\n",
      "  0.005446    0.2605637 ]\n",
      "10:  [ 0.43158871 -0.19359483  0.13321499  0.01297605 -0.09001209 -0.36190981\n",
      "  0.27494884  0.54554887 -0.01353006  0.03963113 -0.42914233 -0.13397289\n",
      " -0.01066875 -0.20507782]\n",
      "11:  [ 0.22010824 -0.16853335  0.01824132 -0.01362213  0.39437661 -0.36003891\n",
      "  0.12826717 -0.1394043  -0.00189133 -0.27273879  0.21337341 -0.21020866\n",
      " -0.36169388  0.5537646 ]\n",
      "12:  [ 0.41574421 -0.56516634 -0.12487563  0.355923    0.24156688  0.29260078\n",
      " -0.31169075 -0.12863178 -0.06421386 -0.05281125  0.05461347  0.16927601\n",
      " -0.01993264 -0.26240209]\n",
      "13:  [ 0.26726124  0.26726124  0.26726124  0.26726124  0.26726124  0.26726124\n",
      "  0.26726124  0.26726124  0.26726124  0.26726124  0.26726124  0.26726124\n",
      "  0.26726124  0.26726124]\n"
     ]
    }
   ],
   "source": [
    "# Display the eigenvectors\n",
    "print('Eigenvectors:')\n",
    "\n",
    "for i, vec in enumerate([Vh[i] for i in range(Vh.shape[0])]):\n",
    "    print(\"%0.2i: \" % i, vec)"
   ]
  },
  {
   "cell_type": "code",
   "execution_count": 35,
   "metadata": {},
   "outputs": [],
   "source": [
    "D = np.matmul(S.T, S)\n",
    "eigenvalues = [D[i,i] for i in range(len(D))]"
   ]
  },
  {
   "cell_type": "markdown",
   "metadata": {},
   "source": [
    "Let's go ahead and plot the eigenvalues now."
   ]
  },
  {
   "cell_type": "code",
   "execution_count": 51,
   "metadata": {},
   "outputs": [
    {
     "data": {
      "image/png": "[encoded data removed]",
      "text/plain": [
       "<matplotlib.figure.Figure at 0x10f9ad128>"
      ]
     },
     "metadata": {},
     "output_type": "display_data"
    }
   ],
   "source": [
    "# eigenvalue indices\n",
    "inds = list(range(1, len(eigenvalues)+1))\n",
    "plt.figure(figsize=(8,6))\n",
    "plt.bar(inds, eigenvalues)\n",
    "plt.xticks(inds, fontsize='14')\n",
    "plt.yticks(fontsize='14')\n",
    "plt.xlabel('Eigenvalue #', fontsize='18')\n",
    "plt.ylabel('Value', fontsize='18')\n",
    "plt.show()"
   ]
  },
  {
   "cell_type": "code",
   "execution_count": 53,
   "metadata": {},
   "outputs": [
    {
     "data": {
      "text/plain": [
       "1639.5914464575887"
      ]
     },
     "execution_count": 53,
     "metadata": {},
     "output_type": "execute_result"
    }
   ],
   "source": [
    "sum(eigenvalues)"
   ]
  },
  {
   "cell_type": "markdown",
   "metadata": {},
   "source": [
    "I think that this dataset has a \"true\" dimensionality of 2. As you can see by the eigenvalues, the majority of the variance in the data (nearly 90%) occurs along the first 2 principle component axes. The 3rd eigenvalue shows a very sharp decline from the first 2."
   ]
  },
  {
   "cell_type": "markdown",
   "metadata": {},
   "source": [
    "## (b)"
   ]
  },
  {
   "cell_type": "code",
   "execution_count": null,
   "metadata": {
    "collapsed": true
   },
   "outputs": [],
   "source": []
  }
 ],
 "metadata": {
  "kernelspec": {
   "display_name": "Python 3",
   "language": "python",
   "name": "python3"
  },
  "language_info": {
   "codemirror_mode": {
    "name": "ipython",
    "version": 3
   },
   "file_extension": ".py",
   "mimetype": "text/x-python",
   "name": "python",
   "nbconvert_exporter": "python",
   "pygments_lexer": "ipython3",
   "version": "3.6.1"
  }
 },
 "nbformat": 4,
 "nbformat_minor": 2
}
