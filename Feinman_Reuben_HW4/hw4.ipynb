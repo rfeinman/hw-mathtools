{
 "cells": [
  {
   "cell_type": "markdown",
   "metadata": {},
   "source": [
    "Reuben Feinman\n",
    "\n",
    "Math Tools for Neural and Cog. Sci.\n",
    "\n",
    "Homework #4\n",
    "\n",
    "11/2/17"
   ]
  },
  {
   "cell_type": "markdown",
   "metadata": {},
   "source": [
    "# Problem #1"
   ]
  },
  {
   "cell_type": "markdown",
   "metadata": {},
   "source": [
    "## (a)"
   ]
  },
  {
   "cell_type": "markdown",
   "metadata": {},
   "source": [
    "Let $B$ denote the case that Mom's second gene is the dominant brown-eyed gene, and $b$ the case that it is the recessive blue-eyed gene. We are given the prior probabilities $P(B) = P(b) = \\frac{1}{2}$. Given our observation, $O$, that the child has brown eyes, we can define the conditional probabilities of this observation for each case of Mom as follows (using understanding of genetics):\n",
    "\n",
    "$P(O|B) = 1$\n",
    "\n",
    "$P(O|b) = \\frac{1}{2}$\n",
    "\n",
    "Now, what we ultimately want to compute is $P(O|b)$. To do this, we use Baye's Rule:\n",
    "\n",
    "$P(b|O) = \\frac{P(O|b)*P(b)}{P(O)} = \\frac{P(O|b)*P(b)}{P(O|b)*P(b) + P(O|B)*P(B)} \n",
    "= \\frac{\\frac{1}{2}*\\frac{1}{2}}{\\frac{1}{2}*\\frac{1}{2} + 1*\\frac{1}{2}} \n",
    "= \\frac{\\frac{1}{4}}{\\frac{3}{4}} = \\frac{1}{3}$\n",
    "\n",
    "So the probability is $\\frac{1}{3}$."
   ]
  },
  {
   "cell_type": "markdown",
   "metadata": {},
   "source": [
    "## (b)"
   ]
  },
  {
   "cell_type": "markdown",
   "metadata": {},
   "source": [
    "Now we have two observations, $O_1, O_2$. Assuming that these two events are conditionally independent (this would be the case in biology), we can compute our joint conditional probabilities as follows:\n",
    "\n",
    "$P(O_1, O_2|B) = P(O_1|B)*P(O_2|B) = 1*1 = 1$\n",
    "\n",
    "$P(O_1, O_2|b) = P(O_1|b)*P(O_2|b) = \\frac{1}{2}*\\frac{1}{2} = \\frac{1}{4}$\n",
    "\n",
    "We can use Baye's Rule to compute $P(b|O_1,O_2)$:\n",
    "\n",
    "$P(b|O_1,O_2) = \\frac{P(O_1,O_2|b)*P(b)}{P(O_1,O_2)} \n",
    "= \\frac{P(O_1,O_2|b)*P(b)}{P(O_1,O_2|b)*P(b) + P(O_1,O_2|B)*P(B)} \n",
    "= \\frac{\\frac{1}{4}*\\frac{1}{2}}{\\frac{1}{4}*\\frac{1}{2} + 1*\\frac{1}{2}} \n",
    "= \\frac{\\frac{1}{8}}{\\frac{5}{8}}\n",
    "= \\frac{1}{5}$.\n",
    "\n",
    "So the probability is $\\frac{1}{5}$."
   ]
  },
  {
   "cell_type": "markdown",
   "metadata": {},
   "source": [
    "## (c)"
   ]
  },
  {
   "cell_type": "markdown",
   "metadata": {},
   "source": [
    "Extending upon the generalization we made to get from (a) to (b) above, we get an equation for our target probability as follows:\n",
    "$\n",
    "P(b|O_1, ..., O_N) = \\frac{P(O_1, ..., O_N|b)*P(b)}{P(O_1, ..., O_N)} \n",
    "= \\frac{P(O_1, ..., O_N|b)*P(b)}{P(O_1, ..., O_N|b)*P(b) + P(O_1, ..., O_N|B)*P(B)}\n",
    "= \\frac{P(O|b)^N*P(b)}{P(O|b)^N*P(b) + P(O|B)^N*P(B)}\n",
    "= \\frac{(\\frac{1}{2})^N*\\frac{1}{2}}{(\\frac{1}{2})^N*\\frac{1}{2} + (1)^N*\\frac{1}{2}} \n",
    "= \\frac{\\frac{1}{2^{N+1}}}{\\frac{1}{2^{N+1}} + \\frac{1}{2}}\n",
    "= \\frac{1}{2^N + 1}\n",
    "$\n",
    "\n",
    "So the probability is $\\frac{1}{2^N + 1}$."
   ]
  },
  {
   "cell_type": "markdown",
   "metadata": {},
   "source": [
    "# Problem #2"
   ]
  },
  {
   "cell_type": "code",
   "execution_count": 1,
   "metadata": {
    "collapsed": true
   },
   "outputs": [],
   "source": [
    "from __future__ import division, print_function\n",
    "import numpy as np\n",
    "np.random.seed(0)"
   ]
  },
  {
   "cell_type": "markdown",
   "metadata": {},
   "source": [
    "## (a)"
   ]
  },
  {
   "cell_type": "code",
   "execution_count": 3,
   "metadata": {},
   "outputs": [
    {
     "data": {
      "text/plain": [
       "array([1, 2, 3, 4])"
      ]
     },
     "execution_count": 3,
     "metadata": {},
     "output_type": "execute_result"
    }
   ],
   "source": [
    "np.arange(1,5)"
   ]
  },
  {
   "cell_type": "code",
   "execution_count": 4,
   "metadata": {
    "collapsed": true
   },
   "outputs": [],
   "source": [
    "def randp(p, num):\n",
    "    values = np.arange(1, len(p)+1)\n",
    "    samples = [np.random.choice(values, p=p) for _ in range(num)]\n",
    "    \n",
    "    return np.asarray(samples)"
   ]
  },
  {
   "cell_type": "code",
   "execution_count": 5,
   "metadata": {
    "collapsed": true
   },
   "outputs": [],
   "source": [
    "p = np.ones(10)/10"
   ]
  },
  {
   "cell_type": "code",
   "execution_count": 6,
   "metadata": {
    "collapsed": true
   },
   "outputs": [],
   "source": [
    "samples = randp(p, 1000)"
   ]
  },
  {
   "cell_type": "code",
   "execution_count": 8,
   "metadata": {
    "collapsed": true
   },
   "outputs": [],
   "source": [
    "from collections import Counter"
   ]
  },
  {
   "cell_type": "code",
   "execution_count": 9,
   "metadata": {},
   "outputs": [
    {
     "data": {
      "text/plain": [
       "Counter({1: 98,\n",
       "         2: 102,\n",
       "         3: 107,\n",
       "         4: 108,\n",
       "         5: 102,\n",
       "         6: 93,\n",
       "         7: 99,\n",
       "         8: 88,\n",
       "         9: 95,\n",
       "         10: 108})"
      ]
     },
     "execution_count": 9,
     "metadata": {},
     "output_type": "execute_result"
    }
   ],
   "source": [
    "Counter(samples)"
   ]
  },
  {
   "cell_type": "code",
   "execution_count": null,
   "metadata": {
    "collapsed": true
   },
   "outputs": [],
   "source": []
  }
 ],
 "metadata": {
  "kernelspec": {
   "display_name": "Python 3",
   "language": "python",
   "name": "python3"
  },
  "language_info": {
   "codemirror_mode": {
    "name": "ipython",
    "version": 3
   },
   "file_extension": ".py",
   "mimetype": "text/x-python",
   "name": "python",
   "nbconvert_exporter": "python",
   "pygments_lexer": "ipython3",
   "version": "3.6.1"
  }
 },
 "nbformat": 4,
 "nbformat_minor": 2
}
