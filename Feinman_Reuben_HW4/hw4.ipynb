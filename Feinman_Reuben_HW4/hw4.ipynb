{
 "cells": [
  {
   "cell_type": "markdown",
   "metadata": {},
   "source": [
    "Reuben Feinman\n",
    "\n",
    "Math Tools for Neural and Cog. Sci.\n",
    "\n",
    "Homework #4\n",
    "\n",
    "11/2/17"
   ]
  },
  {
   "cell_type": "markdown",
   "metadata": {},
   "source": [
    "# Problem #1"
   ]
  },
  {
   "cell_type": "markdown",
   "metadata": {},
   "source": [
    "## (a)"
   ]
  },
  {
   "cell_type": "markdown",
   "metadata": {},
   "source": [
    "Let $B$ denote the case that Mom's second gene is the dominant brown-eyed gene, and $b$ the case that it is the recessive blue-eyed gene. We are given the prior probabilities $P(B) = P(b) = 50\\%$. Given our observation, $O$, that the child has brown eyes, we can define the conditional probabilities of this observation for each case of Mom as follows (using understanding of genetics):\n",
    "\n",
    "$P(O|B) = 1$\n",
    "\n",
    "$P(O|b) = \\frac{1}{2}$\n",
    "\n",
    "Now, what we ultimately want to compute is $P(O|b)$. To do this, we use Baye's Rule:\n",
    "\n",
    "$P(b|O) = \\frac{P(O|b)*P(b)}{P(O)} = \\frac{P(O|b)*P(b)}{P(O|b)*P(b) + P(O|B)*P(B)} \n",
    "= \\frac{\\frac{1}{2}*\\frac{1}{2}}{\\frac{1}{2}*\\frac{1}{2} + 1*\\frac{1}{2}} \n",
    "= \\frac{\\frac{1}{4}}{\\frac{3}{4}} = \\frac{1}{3}$\n",
    "\n",
    "So the probability is $\\frac{1}{3}$."
   ]
  },
  {
   "cell_type": "markdown",
   "metadata": {},
   "source": [
    "## (b)"
   ]
  },
  {
   "cell_type": "markdown",
   "metadata": {},
   "source": [
    "Now we have two observations, $O_1, O_2$. Assuming that these two events are conditionally independent (this would be the case in biology), we can compute our joint conditional probabilities as follows:\n",
    "\n",
    "$P(O_1, O_2|B) = P(O_1|B)*P(O_2|B) = 1*1 = 1$\n",
    "\n",
    "$P(O_1, O_2|b) = P(O_1|b)*P(O_2|b) = \\frac{1}{2}*\\frac{1}{2} = \\frac{1}{4}$\n",
    "\n",
    "We can use Baye's Rule to compute $P(b|O_1,O_2)$:\n",
    "\n",
    "$P(b|O_1,O_2) = \\frac{P(O_1,O_2|b)*P(b)}{P(O_1,O_2)}$.\n",
    "\n",
    "We can compute the denominator $P(O_1,O_2) = P(O_1)*P(O_2)$ because the events are independent. Recall from part (a) that $P(O) = \\frac{3}{4}$ and thus $P(O_1,O_2) = \\frac{3}{4}*\\frac{3}{4} = \\frac{9}{16}$. So we have\n",
    "\n",
    "$P(b|O_1,O_2) = \\frac{P(O_1,O_2|b)*P(b)}{P(O_1,O_2)} = \\frac{\\frac{1}{4}*\\frac{1}{2}}{\\frac{9}{16}}\n",
    "= \\frac{\\frac{1}{8}}{\\frac{9}{16}} = \\frac{2}{9}$.\n",
    "\n",
    "So the probability is $\\frac{2}{9}$."
   ]
  },
  {
   "cell_type": "markdown",
   "metadata": {},
   "source": [
    "## (c)"
   ]
  },
  {
   "cell_type": "markdown",
   "metadata": {},
   "source": [
    "Extending upon the generalization we made to get from (a) to (b) above, we get an equation for our target probability as follows:\n",
    "$P(b|O_1, ..., O_N) = \\frac{P(O_1, ..., O_N|b)*P(b)}{P(O_1, ..., O_N)} = \\frac{P(O|b)^N*P(b)}{P(O)^N}\n",
    "= \\frac{(\\frac{1}{2})^N*\\frac{1}{2}}{(\\frac{3}{4})^N} = \\frac{2^{N-1}}{3^N}$.\n",
    "\n",
    "So the probability is $\\frac{2^{N-1}}{3^N}$."
   ]
  },
  {
   "cell_type": "markdown",
   "metadata": {},
   "source": [
    "# Problem #2"
   ]
  },
  {
   "cell_type": "code",
   "execution_count": null,
   "metadata": {
    "collapsed": true
   },
   "outputs": [],
   "source": []
  }
 ],
 "metadata": {
  "kernelspec": {
   "display_name": "Python 3",
   "language": "python",
   "name": "python3"
  },
  "language_info": {
   "codemirror_mode": {
    "name": "ipython",
    "version": 3
   },
   "file_extension": ".py",
   "mimetype": "text/x-python",
   "name": "python",
   "nbconvert_exporter": "python",
   "pygments_lexer": "ipython3",
   "version": "3.6.1"
  }
 },
 "nbformat": 4,
 "nbformat_minor": 2
}
