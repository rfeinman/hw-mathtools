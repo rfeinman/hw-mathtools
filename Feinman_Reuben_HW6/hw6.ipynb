{
 "cells": [
  {
   "cell_type": "markdown",
   "metadata": {},
   "source": [
    "# Homework 6\n",
    "\n",
    "## Math Tools for Neural and Cognitive Science\n",
    "\n",
    "Reuben Feinman\n",
    "\n",
    "11/26/2017\n",
    "\n",
    "NOTE: grader must have Python bindings for MATLAB installed. See here for details: https://www.mathworks.com/help/matlab/matlab_external/install-the-matlab-engine-for-python.html"
   ]
  },
  {
   "cell_type": "code",
   "execution_count": 33,
   "metadata": {
    "collapsed": true
   },
   "outputs": [],
   "source": [
    "from __future__ import division, print_function\n",
    "\n",
    "import os\n",
    "import numpy as np"
   ]
  },
  {
   "cell_type": "code",
   "execution_count": 2,
   "metadata": {
    "collapsed": true
   },
   "outputs": [],
   "source": [
    "import matlab.engine\n",
    "eng = matlab.engine.start_matlab()\n",
    "eng.addpath(os.path.realpath('.'),nargout=0)"
   ]
  },
  {
   "cell_type": "code",
   "execution_count": 27,
   "metadata": {},
   "outputs": [],
   "source": [
    "def runGaussNoiseExpt(kernel, duration):\n",
    "    \"\"\"\n",
    "    A wrapper function for the matlab function runGaussNoiseExpt.\n",
    "    Does the necessary data type transformations to the inputs, \n",
    "    calls the matlab function, transforms the output back \n",
    "    into numpy, and returns.\n",
    "    \"\"\"\n",
    "    kernel_mat = matlab.double(kernel.tolist())\n",
    "    spikes, stimuli = eng.runGaussNoiseExpt(kernel_mat, duration, nargout=2)\n",
    "    \n",
    "    return np.asarray(spikes, dtype=np.bool).reshape(-1,), np.asarray(stimuli, dtype=np.float32)"
   ]
  },
  {
   "cell_type": "markdown",
   "metadata": {},
   "source": [
    "## (a)"
   ]
  },
  {
   "cell_type": "code",
   "execution_count": 45,
   "metadata": {},
   "outputs": [],
   "source": [
    "kernel = np.asarray([\n",
    "    [-1,-2,0],\n",
    "    [-2,0,2],\n",
    "    [1,2,0]\n",
    "])/6.\n",
    "spikes, stimuli = runGaussNoiseExpt(kernel.reshape(-1,1), 20)"
   ]
  },
  {
   "cell_type": "code",
   "execution_count": 46,
   "metadata": {},
   "outputs": [
    {
     "data": {
      "text/plain": [
       "(20, 9)"
      ]
     },
     "execution_count": 46,
     "metadata": {},
     "output_type": "execute_result"
    }
   ],
   "source": [
    "stimuli.shape"
   ]
  },
  {
   "cell_type": "code",
   "execution_count": null,
   "metadata": {
    "collapsed": true
   },
   "outputs": [],
   "source": []
  }
 ],
 "metadata": {
  "kernelspec": {
   "display_name": "Python 2",
   "language": "python",
   "name": "python2"
  },
  "language_info": {
   "codemirror_mode": {
    "name": "ipython",
    "version": 2
   },
   "file_extension": ".py",
   "mimetype": "text/x-python",
   "name": "python",
   "nbconvert_exporter": "python",
   "pygments_lexer": "ipython2",
   "version": "2.7.13"
  }
 },
 "nbformat": 4,
 "nbformat_minor": 2
}
